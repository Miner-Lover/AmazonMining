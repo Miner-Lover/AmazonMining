{
 "cells": [
  {
   "cell_type": "markdown",
   "metadata": {},
   "source": [
    "# Link Prediction"
   ]
  },
  {
   "cell_type": "markdown",
   "metadata": {},
   "source": [
    "GPU acceleration dengan CUDA"
   ]
  },
  {
   "cell_type": "code",
   "execution_count": 2,
   "metadata": {},
   "outputs": [
    {
     "name": "stdout",
     "output_type": "stream",
     "text": [
      "env: NX_CUGRAPH_AUTOCONFIG=True\n"
     ]
    }
   ],
   "source": [
    "%env NX_CUGRAPH_AUTOCONFIG=True"
   ]
  },
  {
   "cell_type": "code",
   "execution_count": 9,
   "metadata": {},
   "outputs": [
    {
     "name": "stdout",
     "output_type": "stream",
     "text": [
      "Requirement already satisfied: igraph in c:\\alek\\conda\\lib\\site-packages (0.11.8)\n",
      "Requirement already satisfied: texttable>=1.6.2 in c:\\alek\\conda\\lib\\site-packages (from igraph) (1.7.0)\n"
     ]
    }
   ],
   "source": [
    "!pip install igraph"
   ]
  },
  {
   "cell_type": "code",
   "execution_count": 10,
   "metadata": {},
   "outputs": [
    {
     "name": "stdout",
     "output_type": "stream",
     "text": [
      "Requirement already satisfied: networkit in c:\\alek\\conda\\lib\\site-packages (11.1)\n",
      "Requirement already satisfied: scipy in c:\\alek\\conda\\lib\\site-packages (from networkit) (1.13.1)\n",
      "Requirement already satisfied: numpy in c:\\alek\\conda\\lib\\site-packages (from networkit) (1.26.4)\n"
     ]
    }
   ],
   "source": [
    "!pip install networkit"
   ]
  },
  {
   "cell_type": "code",
   "execution_count": 1,
   "metadata": {},
   "outputs": [
    {
     "data": {
      "text/html": [
       "\n",
       "\t\t\t<script type=\"text/javascript\">\n",
       "\t\t\t<!--\n",
       "\t\t\t\t\n",
       "\t\t\t{\n",
       "\t\t\t\tvar element = document.getElementById('NetworKit_script');\n",
       "\t\t\t\tif (element) {\n",
       "\t\t\t\t\telement.parentNode.removeChild(element);\n",
       "\t\t\t\t}\n",
       "\t\t\t\telement = document.createElement('script');\n",
       "\t\t\t\telement.type = 'text/javascript';\n",
       "\t\t\t\telement.innerHTML = 'function NetworKit_pageEmbed(id) { var i, j; var elements; elements = document.getElementById(id).getElementsByClassName(\"Plot\"); for (i=0; i<elements.length; i++) { elements[i].id = id + \"_Plot_\" + i; var data = elements[i].getAttribute(\"data-image\").split(\"|\"); elements[i].removeAttribute(\"data-image\"); var content = \"<div class=\\\\\"Image\\\\\" id=\\\\\"\" + elements[i].id + \"_Image\\\\\" />\"; elements[i].innerHTML = content; elements[i].setAttribute(\"data-image-index\", 0); elements[i].setAttribute(\"data-image-length\", data.length); for (j=0; j<data.length; j++) { elements[i].setAttribute(\"data-image-\" + j, data[j]); } NetworKit_plotUpdate(elements[i]); elements[i].onclick = function (e) { NetworKit_overlayShow((e.target) ? e.target : e.srcElement); } } elements = document.getElementById(id).getElementsByClassName(\"HeatCell\"); for (i=0; i<elements.length; i++) { var data = parseFloat(elements[i].getAttribute(\"data-heat\")); var color = \"#00FF00\"; if (data <= 1 && data > 0) { color = \"hsla(0, 100%, 75%, \" + (data) + \")\"; } else if (data <= 0 && data >= -1) { color = \"hsla(240, 100%, 75%, \" + (-data) + \")\"; } elements[i].style.backgroundColor = color; } elements = document.getElementById(id).getElementsByClassName(\"Details\"); for (i=0; i<elements.length; i++) { elements[i].setAttribute(\"data-title\", \"-\"); NetworKit_toggleDetails(elements[i]); elements[i].onclick = function (e) { NetworKit_toggleDetails((e.target) ? e.target : e.srcElement); } } elements = document.getElementById(id).getElementsByClassName(\"MathValue\"); for (i=elements.length-1; i>=0; i--) { value = elements[i].innerHTML.trim(); if (value === \"nan\") { elements[i].parentNode.innerHTML = \"\" } } elements = document.getElementById(id).getElementsByClassName(\"SubCategory\"); for (i=elements.length-1; i>=0; i--) { value = elements[i].innerHTML.trim(); if (value === \"\") { elements[i].parentNode.removeChild(elements[i]) } } elements = document.getElementById(id).getElementsByClassName(\"Category\"); for (i=elements.length-1; i>=0; i--) { value = elements[i].innerHTML.trim(); if (value === \"\") { elements[i].parentNode.removeChild(elements[i]) } } var isFirefox = false; try { isFirefox = typeof InstallTrigger !== \"undefined\"; } catch (e) {} if (!isFirefox) { alert(\"Currently the function\\'s output is only fully supported by Firefox.\"); } } function NetworKit_plotUpdate(source) { var index = source.getAttribute(\"data-image-index\"); var data = source.getAttribute(\"data-image-\" + index); var image = document.getElementById(source.id + \"_Image\"); image.style.backgroundImage = \"url(\" + data + \")\"; } function NetworKit_showElement(id, show) { var element = document.getElementById(id); element.style.display = (show) ? \"block\" : \"none\"; } function NetworKit_overlayShow(source) { NetworKit_overlayUpdate(source); NetworKit_showElement(\"NetworKit_Overlay\", true); } function NetworKit_overlayUpdate(source) { document.getElementById(\"NetworKit_Overlay_Title\").innerHTML = source.title; var index = source.getAttribute(\"data-image-index\"); var data = source.getAttribute(\"data-image-\" + index); var image = document.getElementById(\"NetworKit_Overlay_Image\"); image.setAttribute(\"data-id\", source.id); image.style.backgroundImage = \"url(\" + data + \")\"; var link = document.getElementById(\"NetworKit_Overlay_Toolbar_Bottom_Save\"); link.href = data; link.download = source.title + \".svg\"; } function NetworKit_overlayImageShift(delta) { var image = document.getElementById(\"NetworKit_Overlay_Image\"); var source = document.getElementById(image.getAttribute(\"data-id\")); var index = parseInt(source.getAttribute(\"data-image-index\")); var length = parseInt(source.getAttribute(\"data-image-length\")); var index = (index+delta) % length; if (index < 0) { index = length + index; } source.setAttribute(\"data-image-index\", index); NetworKit_overlayUpdate(source); } function NetworKit_toggleDetails(source) { var childs = source.children; var show = false; if (source.getAttribute(\"data-title\") == \"-\") { source.setAttribute(\"data-title\", \"+\"); show = false; } else { source.setAttribute(\"data-title\", \"-\"); show = true; } for (i=0; i<childs.length; i++) { if (show) { childs[i].style.display = \"block\"; } else { childs[i].style.display = \"none\"; } } }';\n",
       "\t\t\t\telement.setAttribute('id', 'NetworKit_script');\n",
       "\t\t\t\tdocument.head.appendChild(element);\n",
       "\t\t\t}\n",
       "\t\t\n",
       "\t\t\t\t\n",
       "\t\t\t{\n",
       "\t\t\t\tvar element = document.getElementById('NetworKit_style');\n",
       "\t\t\t\tif (element) {\n",
       "\t\t\t\t\telement.parentNode.removeChild(element);\n",
       "\t\t\t\t}\n",
       "\t\t\t\telement = document.createElement('style');\n",
       "\t\t\t\telement.type = 'text/css';\n",
       "\t\t\t\telement.innerHTML = '.NetworKit_Page { font-family: Arial, Helvetica, sans-serif; font-size: 14px; } .NetworKit_Page .Value:before { font-family: Arial, Helvetica, sans-serif; font-size: 1.05em; content: attr(data-title) \":\"; margin-left: -2.5em; padding-right: 0.5em; } .NetworKit_Page .Details .Value:before { display: block; } .NetworKit_Page .Value { font-family: monospace; white-space: pre; padding-left: 2.5em; white-space: -moz-pre-wrap !important; white-space: -pre-wrap; white-space: -o-pre-wrap; white-space: pre-wrap; word-wrap: break-word; tab-size: 4; -moz-tab-size: 4; } .NetworKit_Page .Category { clear: both; padding-left: 1em; margin-bottom: 1.5em; } .NetworKit_Page .Category:before { content: attr(data-title); font-size: 1.75em; display: block; margin-left: -0.8em; margin-bottom: 0.5em; } .NetworKit_Page .SubCategory { margin-bottom: 1.5em; padding-left: 1em; } .NetworKit_Page .SubCategory:before { font-size: 1.6em; display: block; margin-left: -0.8em; margin-bottom: 0.5em; } .NetworKit_Page .SubCategory[data-title]:before { content: attr(data-title); } .NetworKit_Page .Block { display: block; } .NetworKit_Page .Block:after { content: \".\"; visibility: hidden; display: block; height: 0; clear: both; } .NetworKit_Page .Block .Thumbnail_Overview, .NetworKit_Page .Block .Thumbnail_ScatterPlot { width: 260px; float: left; } .NetworKit_Page .Block .Thumbnail_Overview img, .NetworKit_Page .Block .Thumbnail_ScatterPlot img { width: 260px; } .NetworKit_Page .Block .Thumbnail_Overview:before, .NetworKit_Page .Block .Thumbnail_ScatterPlot:before { display: block; text-align: center; font-weight: bold; } .NetworKit_Page .Block .Thumbnail_Overview:before { content: attr(data-title); } .NetworKit_Page .HeatCell { font-family: \"Courier New\", Courier, monospace; cursor: pointer; } .NetworKit_Page .HeatCell, .NetworKit_Page .HeatCellName { display: inline; padding: 0.1em; margin-right: 2px; background-color: #FFFFFF } .NetworKit_Page .HeatCellName { margin-left: 0.25em; } .NetworKit_Page .HeatCell:before { content: attr(data-heat); display: inline-block; color: #000000; width: 4em; text-align: center; } .NetworKit_Page .Measure { clear: both; } .NetworKit_Page .Measure .Details { cursor: pointer; } .NetworKit_Page .Measure .Details:before { content: \"[\" attr(data-title) \"]\"; display: block; } .NetworKit_Page .Measure .Details .Value { border-left: 1px dotted black; margin-left: 0.4em; padding-left: 3.5em; pointer-events: none; } .NetworKit_Page .Measure .Details .Spacer:before { content: \".\"; opacity: 0.0; pointer-events: none; } .NetworKit_Page .Measure .Plot { width: 440px; height: 440px; cursor: pointer; float: left; margin-left: -0.9em; margin-right: 20px; } .NetworKit_Page .Measure .Plot .Image { background-repeat: no-repeat; background-position: center center; background-size: contain; height: 100%; pointer-events: none; } .NetworKit_Page .Measure .Stat { width: 500px; float: left; } .NetworKit_Page .Measure .Stat .Group { padding-left: 1.25em; margin-bottom: 0.75em; } .NetworKit_Page .Measure .Stat .Group .Title { font-size: 1.1em; display: block; margin-bottom: 0.3em; margin-left: -0.75em; border-right-style: dotted; border-right-width: 1px; border-bottom-style: dotted; border-bottom-width: 1px; background-color: #D0D0D0; padding-left: 0.2em; } .NetworKit_Page .Measure .Stat .Group .List { -webkit-column-count: 3; -moz-column-count: 3; column-count: 3; } .NetworKit_Page .Measure .Stat .Group .List .Entry { position: relative; line-height: 1.75em; } .NetworKit_Page .Measure .Stat .Group .List .Entry[data-tooltip]:before { position: absolute; left: 0; top: -40px; background-color: #808080; color: #ffffff; height: 30px; line-height: 30px; border-radius: 5px; padding: 0 15px; content: attr(data-tooltip); white-space: nowrap; display: none; } .NetworKit_Page .Measure .Stat .Group .List .Entry[data-tooltip]:after { position: absolute; left: 15px; top: -10px; border-top: 7px solid #808080; border-left: 7px solid transparent; border-right: 7px solid transparent; content: \"\"; display: none; } .NetworKit_Page .Measure .Stat .Group .List .Entry[data-tooltip]:hover:after, .NetworKit_Page .Measure .Stat .Group .List .Entry[data-tooltip]:hover:before { display: block; } .NetworKit_Page .Measure .Stat .Group .List .Entry .MathValue { font-family: \"Courier New\", Courier, monospace; } .NetworKit_Page .Measure:after { content: \".\"; visibility: hidden; display: block; height: 0; clear: both; } .NetworKit_Page .PartitionPie { clear: both; } .NetworKit_Page .PartitionPie img { width: 600px; } #NetworKit_Overlay { left: 0px; top: 0px; display: none; position: absolute; width: 100%; height: 100%; background-color: rgba(0,0,0,0.6); z-index: 1000; } #NetworKit_Overlay_Title { position: absolute; color: white; transform: rotate(-90deg); width: 32em; height: 32em; padding-right: 0.5em; padding-top: 0.5em; text-align: right; font-size: 40px; } #NetworKit_Overlay .button { background: white; cursor: pointer; } #NetworKit_Overlay .button:before { size: 13px; display: inline-block; text-align: center; margin-top: 0.5em; margin-bottom: 0.5em; width: 1.5em; height: 1.5em; } #NetworKit_Overlay .icon-close:before { content: \"X\"; } #NetworKit_Overlay .icon-previous:before { content: \"P\"; } #NetworKit_Overlay .icon-next:before { content: \"N\"; } #NetworKit_Overlay .icon-save:before { content: \"S\"; } #NetworKit_Overlay_Toolbar_Top, #NetworKit_Overlay_Toolbar_Bottom { position: absolute; width: 40px; right: 13px; text-align: right; z-index: 1100; } #NetworKit_Overlay_Toolbar_Top { top: 0.5em; } #NetworKit_Overlay_Toolbar_Bottom { Bottom: 0.5em; } #NetworKit_Overlay_ImageContainer { position: absolute; top: 5%; left: 5%; height: 90%; width: 90%; background-repeat: no-repeat; background-position: center center; background-size: contain; } #NetworKit_Overlay_Image { height: 100%; width: 100%; background-repeat: no-repeat; background-position: center center; background-size: contain; }';\n",
       "\t\t\t\telement.setAttribute('id', 'NetworKit_style');\n",
       "\t\t\t\tdocument.head.appendChild(element);\n",
       "\t\t\t}\n",
       "\t\t\n",
       "\t\t\t\t\n",
       "\t\t\t{\n",
       "\t\t\t\tvar element = document.getElementById('NetworKit_Overlay');\n",
       "\t\t\t\tif (element) {\n",
       "\t\t\t\t\telement.parentNode.removeChild(element);\n",
       "\t\t\t\t}\n",
       "\t\t\t\telement = document.createElement('div');\n",
       "\t\t\t\telement.innerHTML = '<div id=\"NetworKit_Overlay_Toolbar_Top\"><div class=\"button icon-close\" id=\"NetworKit_Overlay_Close\" /></div><div id=\"NetworKit_Overlay_Title\" /> <div id=\"NetworKit_Overlay_ImageContainer\"> <div id=\"NetworKit_Overlay_Image\" /> </div> <div id=\"NetworKit_Overlay_Toolbar_Bottom\"> <div class=\"button icon-previous\" onclick=\"NetworKit_overlayImageShift(-1)\" /> <div class=\"button icon-next\" onclick=\"NetworKit_overlayImageShift(1)\" /> <a id=\"NetworKit_Overlay_Toolbar_Bottom_Save\"><div class=\"button icon-save\" /></a> </div>';\n",
       "\t\t\t\telement.setAttribute('id', 'NetworKit_Overlay');\n",
       "\t\t\t\tdocument.body.appendChild(element);\n",
       "\t\t\t\tdocument.getElementById('NetworKit_Overlay_Close').onclick = function (e) {\n",
       "\t\t\t\t\tdocument.getElementById('NetworKit_Overlay').style.display = 'none';\n",
       "\t\t\t\t}\n",
       "\t\t\t}\n",
       "\t\t\n",
       "\t\t\t-->\n",
       "\t\t\t</script>\n",
       "\t\t"
      ]
     },
     "metadata": {},
     "output_type": "display_data"
    }
   ],
   "source": [
    "import pandas as pd\n",
    "import matplotlib.pyplot as plt\n",
    "import seaborn as sns\n",
    "import numpy as np\n",
    "import networkx as nx\n",
    "import pickle\n",
    "import random\n",
    "import igraph as ig\n",
    "import networkit as nk\n",
    "\n",
    "from itertools import combinations\n",
    "from sklearn.metrics import roc_auc_score, average_precision_score, precision_recall_curve, auc\n",
    "from sklearn.model_selection import train_test_split\n",
    "from sklearn.feature_selection import mutual_info_classif\n",
    "from tqdm import tqdm\n",
    "from sklearn.ensemble import RandomForestClassifier\n",
    "from sklearn.linear_model import LogisticRegression\n",
    "from sklearn.naive_bayes import GaussianNB"
   ]
  },
  {
   "cell_type": "markdown",
   "metadata": {},
   "source": [
    "## Dataset Preparation"
   ]
  },
  {
   "cell_type": "code",
   "execution_count": 2,
   "metadata": {},
   "outputs": [
    {
     "name": "stdout",
     "output_type": "stream",
     "text": [
      "DiGraph with 259102 nodes and 1207337 edges\n"
     ]
    }
   ],
   "source": [
    "pickle_file_path = 'dataset/amazon_copurchase_graph.pickle'\n",
    "with open(pickle_file_path, 'rb') as f:\n",
    "    G = pickle.load(f)\n",
    "\n",
    "print(G)"
   ]
  },
  {
   "cell_type": "markdown",
   "metadata": {},
   "source": [
    "### Features"
   ]
  },
  {
   "cell_type": "markdown",
   "metadata": {},
   "source": [
    "#### Node Features"
   ]
  },
  {
   "cell_type": "code",
   "execution_count": 3,
   "metadata": {},
   "outputs": [
    {
     "name": "stdout",
     "output_type": "stream",
     "text": [
      "Total Nodes: 259102\n",
      "Node: 1, Data: {'title': 'Patterns of Preaching: A Sermon Sampler', 'group': 'Book', 'salesrank': 396585.0, 'review_cnt': 2, 'downloads': 2, 'rating': 5.0, 'in_degree': 0, 'out_degree': 4, 'pagerank_centrality': 6.210153588242165e-07, 'betweenness_centrality': 0.0, 'harmonic_closeness_centrality': 0.1442557706580312, 'degree_centrality': 1.5437995221940477e-05, 'community': 10}\n",
      "Node: 2, Data: {'title': 'Candlemas: Feast of Flames', 'group': 'Book', 'salesrank': 168596.0, 'review_cnt': 12, 'downloads': 12, 'rating': 4.5, 'in_degree': 1, 'out_degree': 4, 'pagerank_centrality': 7.560926314778459e-07, 'betweenness_centrality': 31563.672353370643, 'harmonic_closeness_centrality': 0.1444868764333364, 'degree_centrality': 1.92974940274256e-05, 'community': 10}\n",
      "Node: 4, Data: {'title': 'Life Application Bible Commentary: 1 and 2 Timothy and Titus', 'group': 'Book', 'salesrank': 631289.0, 'review_cnt': 1, 'downloads': 1, 'rating': 4.0, 'in_degree': 24, 'out_degree': 5, 'pagerank_centrality': 1.3446471408497216e-05, 'betweenness_centrality': 6528478.270207832, 'harmonic_closeness_centrality': 0.1558843156023248, 'degree_centrality': 0.000111925465359, 'community': 10}\n",
      "Node: 5, Data: {'title': 'Prayers That Avail Much for Business: Executive', 'group': 'Book', 'salesrank': 455160.0, 'review_cnt': 0, 'downloads': 0, 'rating': 0.0, 'in_degree': 53, 'out_degree': 5, 'pagerank_centrality': 8.23889149307843e-05, 'betweenness_centrality': 15442396.471775234, 'harmonic_closeness_centrality': 0.1658204661474067, 'degree_centrality': 0.0002238509307181, 'community': 10}\n",
      "Node: 15, Data: {'title': 'Wake Up and Smell the Coffee', 'group': 'Book', 'salesrank': 518927.0, 'review_cnt': 8, 'downloads': 8, 'rating': 4.0, 'in_degree': 21, 'out_degree': 5, 'pagerank_centrality': 1.545618113196135e-05, 'betweenness_centrality': 15218614.387948066, 'harmonic_closeness_centrality': 0.1433003301418181, 'degree_centrality': 0.0001003469689426, 'community': 31}\n",
      "\n",
      "Node features: ['title', 'group', 'salesrank', 'review_cnt', 'downloads', 'rating', 'in_degree', 'out_degree', 'pagerank_centrality', 'betweenness_centrality', 'harmonic_closeness_centrality', 'degree_centrality', 'community']\n"
     ]
    }
   ],
   "source": [
    "\n",
    "print(f\"Total Nodes: {G.number_of_nodes()}\")\n",
    "\n",
    "\n",
    "for node, data in list(G.nodes(data=True))[:5]:\n",
    "    print(f\"Node: {node}, Data: {data}\")\n",
    "\n",
    "print()\n",
    "sample_node = next(iter(G.nodes(data=True)))[1]\n",
    "print(\"Node features:\", list(sample_node.keys()))"
   ]
  },
  {
   "cell_type": "markdown",
   "metadata": {},
   "source": [
    "Fitur-fitur dari node dalam graph ini meliputi:  \n",
    "\n",
    "*   **`title`**:  \n",
    "    *   **Tipe Data**: String (Teks)  \n",
    "    *   **Deskripsi**: Nama atau judul produk. Fitur ini memberikan deskripsi tekstual tentang produk yang dimaksud.  \n",
    "    *   **Contoh**: \"Patterns of Preaching: A Sermon Sampler\", \"Candlemas: Feast of Flames\", dll.  \n",
    "\n",
    "*   **`group`**:  \n",
    "    *   **Tipe Data**: String (Kategorikal)  \n",
    "    *   **Deskripsi**: Kategori atau grup tempat produk tersebut berada. Fitur ini membantu dalam memahami jenis produk (misalnya, Buku, Musik, DVD, dll.).  \n",
    "    *   **Contoh**: \"Book\"  \n",
    "\n",
    "*   **`salesrank`**:  \n",
    "    *   **Tipe Data**: Float  \n",
    "    *   **Deskripsi**: Peringkat penjualan produk di Amazon. Semakin rendah nilai `salesrank`, semakin tinggi tingkat penjualan dan popularitasnya. Fitur ini sering digunakan untuk mengukur seberapa baik suatu produk terjual di Amazon.  \n",
    "    *   **Contoh**: `396585.0`, `168596.0`, `1270652.0`, dll.  \n",
    "\n",
    "*   **`review_cnt`**:  \n",
    "    *   **Tipe Data**: Integer  \n",
    "    *   **Deskripsi**: Jumlah ulasan pelanggan yang diterima oleh produk. Nilai `review_cnt` yang lebih tinggi bisa menunjukkan tingkat visibilitas produk yang lebih besar, popularitas yang lebih tinggi, atau keterlibatan pelanggan yang lebih banyak.  \n",
    "    *   **Contoh**: `2`, `12`, `1`, `1`, `0`, dll.  \n",
    "\n",
    "*   **`downloads`**:  \n",
    "    *   **Tipe Data**: Integer  \n",
    "    *   **Deskripsi**: Jumlah unduhan yang terkait dengan produk. Makna pastinya dapat bervariasi tergantung pada sumber dataset. Bisa saja mewakili unduhan produk digital atau metrik keterlibatan lainnya. Dalam konteks produk \"Book\" pada contoh ini, bisa merujuk pada unduhan sampel buku atau bentuk keterlibatan lain yang relevan dengan dataset.  \n",
    "    *   **Contoh**: `2`, `12`, `1`, `1`, `0`, dll.  \n",
    "\n",
    "*   **`rating`**:  \n",
    "    *   **Tipe Data**: Float  \n",
    "    *   **Deskripsi**: Rata-rata rating pelanggan terhadap produk, biasanya dalam skala 0 hingga 5 (atau sistem serupa). Fitur ini mencerminkan tingkat kepuasan pelanggan serta persepsi kualitas produk secara keseluruhan.  \n",
    "    *   **Contoh**: `5.0`, `4.5`, `5.0`, `4.0`, `0.0`, dll.   \n",
    "\n",
    "*   **`in_degree`**:  \n",
    "    *   **Tipe Data**: Integer  \n",
    "    *   **Deskripsi**: Jumlah edge (sisi) yang masuk ke node ini. Menunjukkan seberapa banyak produk lain yang terhubung ke produk ini dalam graph. Dalam konteks dataset ini, bisa menunjukkan seberapa sering produk ini direferensikan oleh produk lain.  \n",
    "    *   **Contoh**: `0`, `1`, `24`, `53`, `21`, dll.  \n",
    "\n",
    "*   **`out_degree`**:  \n",
    "    *   **Tipe Data**: Integer  \n",
    "    *   **Deskripsi**: Jumlah edge (sisi) yang keluar dari node ini. Menunjukkan seberapa banyak produk lain yang direferensikan oleh produk ini.  \n",
    "    *   **Contoh**: `4`, `4`, `5`, `5`, `5`, dll.  \n",
    "\n",
    "*   **`pagerank_centrality`**:  \n",
    "    *   **Tipe Data**: Float  \n",
    "    *   **Deskripsi**: Skor PageRank node dalam graph. Metrik ini mengukur kepentingan sebuah node berdasarkan jumlah dan kualitas tautan yang mengarah ke node tersebut. Semakin tinggi nilainya, semakin berpengaruh node tersebut dalam jaringan.  \n",
    "    *   **Contoh**: `6.21e-07`, `7.56e-07`, `1.34e-05`, dll.  \n",
    "\n",
    "*   **`betweenness_centrality`**:  \n",
    "    *   **Tipe Data**: Float  \n",
    "    *   **Deskripsi**: Mengukur seberapa sering sebuah node menjadi perantara dalam jalur terpendek antara dua node lainnya. Node dengan betweenness centrality tinggi berperan sebagai \"jembatan\" yang menghubungkan berbagai bagian dalam graph.  \n",
    "    *   **Contoh**: `0.0`, `31563.67`, `6528478.27`, `15442396.47`, dll.  \n",
    "\n",
    "*   **`harmonic_closeness_centrality`**:  \n",
    "    *   **Tipe Data**: Float  \n",
    "    *   **Deskripsi**: Versi alternatif dari closeness centrality yang menghitung seberapa dekat suatu node dengan node lain berdasarkan jarak harmonik. Makin tinggi nilainya, makin dekat node tersebut ke banyak node lain dalam graph.  \n",
    "    *   **Contoh**: `0.1442`, `0.1444`, `0.1558`, `0.1658`, dll.  \n",
    "\n",
    "*   **`degree_centrality`**:  \n",
    "    *   **Tipe Data**: Float  \n",
    "    *   **Deskripsi**: Mengukur proporsi node lain yang terhubung dengan node ini dalam graph. Degree centrality dihitung sebagai jumlah total koneksi (degree) node ini dibagi dengan jumlah maksimum koneksi yang mungkin dalam graph.  \n",
    "    *   **Contoh**: `1.54e-05`, `1.92e-05`, `1.11e-04`, `2.23e-04`, dll.  \n",
    "\n",
    "*   **`community`**:  \n",
    "    *   **Tipe Data**: Integer (Kategorikal)  \n",
    "    *   **Deskripsi**: Identitas komunitas tempat node ini tergabung, berdasarkan algoritma deteksi komunitas. Node dalam komunitas yang sama lebih cenderung saling terhubung dibandingkan dengan node di komunitas lain.  \n",
    "    *   **Contoh**: `10`, `10`, `10`, `31`, dll.  "
   ]
  },
  {
   "cell_type": "markdown",
   "metadata": {},
   "source": [
    "#### Edge Features"
   ]
  },
  {
   "cell_type": "code",
   "execution_count": 4,
   "metadata": {},
   "outputs": [
    {
     "name": "stdout",
     "output_type": "stream",
     "text": [
      "Total Edges: 1207337\n",
      "Edge: (1, 2), Data: {}\n",
      "Edge: (1, 4), Data: {}\n",
      "Edge: (1, 5), Data: {}\n",
      "Edge: (1, 15), Data: {}\n",
      "Edge: (2, 11), Data: {}\n",
      "\n",
      "Edge features: []\n"
     ]
    }
   ],
   "source": [
    "print(f\"Total Edges: {G.number_of_edges()}\")\n",
    "\n",
    "for u, v, data in list(G.edges(data=True))[:5]:\n",
    "    print(f\"Edge: ({u}, {v}), Data: {data}\")\n",
    "\n",
    "sample_edge = next(iter(G.edges(data=True)))[2]\n",
    "print(\"\\nEdge features:\", list(sample_edge.keys()))\n"
   ]
  },
  {
   "cell_type": "markdown",
   "metadata": {},
   "source": [
    "Tidak ada edge feature pada graph ini"
   ]
  },
  {
   "cell_type": "markdown",
   "metadata": {},
   "source": [
    "### Split Dataset"
   ]
  },
  {
   "cell_type": "code",
   "execution_count": 16,
   "metadata": {},
   "outputs": [
    {
     "name": "stdout",
     "output_type": "stream",
     "text": [
      "Train Edges: 1086603, Test Edges: 120734\n",
      "Train Non-Edges: 1086603, Test Non-Edges: 120734\n"
     ]
    }
   ],
   "source": [
    "import networkit as nk\n",
    "\n",
    "nkG = nk.nxadapter.nx2nk(G)\n",
    "\n",
    "edges = list(G.edges())\n",
    "\n",
    "communities = nx.get_node_attributes(G, \"community\")\n",
    "community_groups = {}\n",
    "for node, comm in communities.items():\n",
    "    if comm not in community_groups:\n",
    "        community_groups[comm] = []\n",
    "    community_groups[comm].append(node)\n",
    "\n",
    "def sample_non_edges_by_community(nkG, num_samples):\n",
    "    non_edges = set()\n",
    "    nodes = list(G.nodes())\n",
    "\n",
    "    half_samples = int(0.6 * num_samples)\n",
    "\n",
    "    for _ in range(half_samples):\n",
    "        comm = random.choice(list(community_groups.keys()))\n",
    "        if len(community_groups[comm]) < 2:\n",
    "            continue\n",
    "        u, v = random.sample(community_groups[comm], 2)\n",
    "        if not nkG.hasEdge(u, v):\n",
    "            non_edges.add((u, v))\n",
    "\n",
    "    while len(non_edges) < num_samples:\n",
    "        u, v = random.sample(nodes, 2)\n",
    "        if communities.get(u, -1) != communities.get(v, -1) and not nkG.hasEdge(u, v):\n",
    "            non_edges.add((u, v))\n",
    "\n",
    "    return list(non_edges)\n",
    "\n",
    "num_samples = len(edges)\n",
    "non_edges = sample_non_edges_by_community(nkG, num_samples)\n",
    "\n",
    "train_edges, test_edges = train_test_split(edges, test_size=0.1, random_state=42)\n",
    "train_non_edges = random.sample(non_edges, len(train_edges))\n",
    "test_non_edges = random.sample(non_edges, len(test_edges))\n",
    "\n",
    "G_train = nx.Graph()\n",
    "G_train.add_nodes_from(G.nodes())\n",
    "G_train.add_edges_from(train_edges)\n",
    "\n",
    "print(f\"Train Edges: {len(train_edges)}, Test Edges: {len(test_edges)}\")\n",
    "print(f\"Train Non-Edges: {len(train_non_edges)}, Test Non-Edges: {len(test_non_edges)}\")\n"
   ]
  },
  {
   "cell_type": "markdown",
   "metadata": {},
   "source": [
    "## Kriteria Evaluasi \n",
    "Link prediction adalah metode yang digunakan untuk memprediksi hubungan antara dua produk dalam graf untuk mencapai salah satu tujuan data mining. Sistem rekomendasi bundling menjadi salah satu aplikasi dari link prediction ini. Ranking based evaluation metrics digunakan untuk mengevaluasi model yang dihasilkan. Metrik-metrik ini mengukur seberapa baik model dalam memberikan rekomendasi berdasarkan ranking dari pasangan produk. Berikut adalah penjelasan dari masing-masing metrik yang digunakan:\n",
    "\n",
    "| **Metrik**        | **Penjelasan** | **Tujuan dalam Sistem Rekomendasi Bundling** |\n",
    "|-------------------|---------------|-----------------------------------------------|\n",
    "| **AUC-ROC**      | Mengukur kemampuan model membedakan antara pasangan yang benar (positif) dan tidak (negatif) berdasarkan ranking skor. Semakin tinggi, semakin baik model dalam memisahkan keduanya. | Berguna untuk memahami performa model secara umum, tetapi kurang prioritas karena sistem lebih fokus ke precision dibanding recall tinggi. |\n",
    "| **AP Score (Average Precision)** | Rata-rata precision di berbagai level recall, memberikan gambaran stabilitas precision saat model mencakup lebih banyak pasangan. | Memastikan precision tetap tinggi bahkan saat model mulai memperluas cakupan rekomendasinya. |\n",
    "| **Precision@1000** | Mengukur precision dari top 1000 rekomendasi teratas. | Prioritas utama karena sistem hanya menampilkan bundling dengan K yang terbatas, sehingga rekomendasi harus sangat akurat. |\n",
    "| **PR AUC (Precision-Recall AUC)** | Area di bawah kurva PR yang mengukur trade-off antara precision dan recall. | Mengutamakan precision dibanding recall, memastikan model tetap memberikan rekomendasi yang akurat tanpa terlalu banyak rekomendasi yang tidak relevan. |\n",
    "| **NDCG@1000 (Normalized Discounted Cumulative Gain)** | Mengukur seberapa baik model memberikan rekomendasi dengan mempertimbangkan urutan relevansi. | Penting untuk memastikan bahwa item yang paling relevan ditampilkan lebih dulu dalam rekomendasi bundling. |\n",
    "\n",
    "Karena sistem lebih mengutamakan precision dan tidak berorientasi pada infinite scrolling recommendation, metrik seperti **Precision@1000** dan **NDCG@1000** menjadi yang paling kritikal. PR AUC juga masih penting, tetapi recall yang terlalu tinggi bukanlah fokus utama.\n",
    " "
   ]
  },
  {
   "cell_type": "markdown",
   "metadata": {},
   "source": [
    "## Heuristic Link Prediction"
   ]
  },
  {
   "cell_type": "code",
   "execution_count": 17,
   "metadata": {},
   "outputs": [],
   "source": [
    "def heuristic_score(G, node_pairs, method):\n",
    "    scores = []\n",
    "    for u, v in tqdm(node_pairs, desc=f\"Computing {method} scores\", disable=True):\n",
    "        if method == \"common_neighbors\":\n",
    "            score = len(list(nx.common_neighbors(G, u, v)))\n",
    "        elif method == \"jaccard\":\n",
    "            score = list(nx.jaccard_coefficient(G, [(u, v)]))[0][2]\n",
    "        elif method == \"adamic_adar\":\n",
    "            score = list(nx.adamic_adar_index(G, [(u, v)]))[0][2]\n",
    "        elif method == \"preferential_attachment\":\n",
    "            score = list(nx.preferential_attachment(G, [(u, v)]))[0][2]\n",
    "        else:\n",
    "            raise ValueError(\"Method not recognized\")\n",
    "        scores.append(score)\n",
    "    return scores\n"
   ]
  },
  {
   "cell_type": "code",
   "execution_count": null,
   "metadata": {},
   "outputs": [],
   "source": [
    "# Metrik evaluasi ranking problem\n",
    "def precision_at_k(y_true, y_scores, k):\n",
    "    sorted_indices = np.argsort(y_scores)[::-1] \n",
    "    top_k = sorted_indices[:k]\n",
    "    return np.mean(y_true[top_k])\n",
    "\n",
    "# def recall_at_k(y_true, y_scores, k):\n",
    "#     sorted_indices = np.argsort(y_scores)[::-1]\n",
    "#     top_k = sorted_indices[:k]\n",
    "#     return np.sum(y_true[top_k]) / np.sum(y_true)\n",
    "\n",
    "# def f1_beta_at_k(y_true, y_scores, k, beta=1):\n",
    "#     precision_k = precision_at_k(y_true, y_scores, k)\n",
    "#     recall_k = recall_at_k(y_true, y_scores, k)\n",
    "    \n",
    "#     if precision_k + recall_k == 0:\n",
    "#         return 0.0\n",
    "    \n",
    "#     beta_sq = beta ** 2\n",
    "#     return (1 + beta_sq) * (precision_k * recall_k) / ((beta_sq * precision_k) + recall_k)\n"
   ]
  },
  {
   "cell_type": "code",
   "execution_count": 120,
   "metadata": {},
   "outputs": [
    {
     "name": "stdout",
     "output_type": "stream",
     "text": [
      "Method                       AUC-ROC   AP Score  Precision@1000     PR AUC  NDCG@1000\n",
      "============================================================================================================================================\n",
      "COMMON_NEIGHBORS            0.897493   0.884728        0.991000   0.926171   0.991311\n",
      "JACCARD                     0.896292   0.880814        0.969000   0.921265   0.968421\n",
      "ADAMIC_ADAR                 0.897755   0.885336        0.980000   0.925751   0.982933\n",
      "PREFERENTIAL_ATTACHMENT     0.599536   0.620427        0.968000   0.623994   0.972045\n"
     ]
    }
   ],
   "source": [
    "from sklearn.metrics import roc_curve, precision_recall_curve, auc, ndcg_score\n",
    "\n",
    "test_pairs = test_edges + test_non_edges\n",
    "labels = np.array([1] * len(test_edges) + [0] * len(test_non_edges))\n",
    "\n",
    "methods = [\"common_neighbors\", \"jaccard\", \"adamic_adar\", \"preferential_attachment\"]\n",
    "k = 1000\n",
    "\n",
    "print(\"{:<25} {:>10} {:>10} {:>15} {:>10} {:>10}\".format(\n",
    "    \"Method\", \"AUC-ROC\", \"AP Score\", f\"Precision@{k}\", \"PR AUC\", f\"NDCG@{k}\"\n",
    "))\n",
    "print(\"=\" * 140)\n",
    "\n",
    "results = []\n",
    "for method in methods:\n",
    "    scores = np.array(heuristic_score(G_train, test_pairs, method))\n",
    "    \n",
    "    if method == \"common_neighbors\":\n",
    "        min_score = np.min(scores)\n",
    "        max_score = np.max(scores)\n",
    "        scores = (scores - min_score) / (max_score - min_score)\n",
    "\n",
    "    fpr, tpr, _ = roc_curve(labels, scores)\n",
    "    roc_auc = auc(fpr, tpr)\n",
    "\n",
    "    precision, recall, _ = precision_recall_curve(labels, scores)\n",
    "    pr_auc = auc(recall, precision)\n",
    "\n",
    "    auc_roc = roc_auc_score(labels, scores)\n",
    "    ap_score = average_precision_score(labels, scores)\n",
    "    p_at_k = precision_at_k(labels, scores, k)\n",
    "    ndcg_score_at_k = ndcg_score([labels], [scores], k=k)\n",
    "\n",
    "    results.append((method, auc_roc, ap_score, p_at_k, pr_auc, ndcg_score_at_k))\n",
    "\n",
    "    print(\"{:<25} {:>10.6f} {:>10.6f} {:>15.6f} {:>10.6f} {:>10.6f}\".format(\n",
    "        method.upper(), auc_roc, ap_score, p_at_k, pr_auc, ndcg_score_at_k\n",
    "    ))\n",
    "\n"
   ]
  },
  {
   "cell_type": "markdown",
   "metadata": {},
   "source": [
    "#### ROC AND PR CURVES"
   ]
  },
  {
   "cell_type": "code",
   "execution_count": null,
   "metadata": {},
   "outputs": [
    {
     "data": {
      "image/png": "[encoded data removed]",
      "text/plain": [
       "<Figure size 2000x1000 with 8 Axes>"
      ]
     },
     "metadata": {},
     "output_type": "display_data"
    }
   ],
   "source": [
    "import matplotlib.pyplot as plt\n",
    "from sklearn.metrics import roc_curve, auc, precision_recall_curve\n",
    "\n",
    "fig, axes = plt.subplots(2, len(methods), figsize=(20, 10))\n",
    "\n",
    "for i, method in enumerate(methods):\n",
    "    scores = np.array(heuristic_score(G_train, test_pairs, method))\n",
    "\n",
    "    if method == \"common_neighbors\":\n",
    "        min_score = np.min(scores)\n",
    "        max_score = np.max(scores)\n",
    "        scores = (scores - min_score) / (max_score - min_score)\n",
    "\n",
    "    fpr, tpr, _ = roc_curve(labels, scores)\n",
    "    roc_auc = auc(fpr, tpr)\n",
    "    \n",
    "    axes[0, i].plot(fpr, tpr, color='blue', lw=2, label=f'AUC = {roc_auc:.6f}')\n",
    "    axes[0, i].plot([0, 1], [0, 1], color='red', lw=2, linestyle='--')\n",
    "    axes[0, i].set_xlim([0.0, 1.0])\n",
    "    axes[0, i].set_ylim([0.0, 1.05])\n",
    "    axes[0, i].set_xlabel('False Positive Rate')\n",
    "    axes[0, i].set_ylabel('True Positive Rate')\n",
    "    axes[0, i].set_title(f'ROC Curve - {method}')\n",
    "    axes[0, i].legend(loc='lower right')\n",
    "    axes[0, i].grid()\n",
    "\n",
    "    precision, recall, _ = precision_recall_curve(labels, scores)\n",
    "    pr_auc = auc(recall, precision)\n",
    "    \n",
    "    axes[1, i].plot(recall, precision, color='blue', lw=2, label=f'AUC = {pr_auc:.6f}')\n",
    "    axes[1, i].set_xlabel('Recall')\n",
    "    axes[1, i].set_ylabel('Precision')\n",
    "    axes[1, i].set_title(f'Precision-Recall Curve - {method}')\n",
    "    axes[1, i].legend(loc='lower left')\n",
    "    axes[1, i].grid()\n",
    "\n",
    "plt.tight_layout()\n",
    "plt.show()\n"
   ]
  },
  {
   "cell_type": "markdown",
   "metadata": {},
   "source": [
    "Dari hasil grafik, terlihat bahwa metode Common Neighbors, Jaccard, dan Adamic-Adar memiliki performa yang cukup baik dalam memprediksi keberadaan edge dalam graf. Ketiga metode ini menunjukkan nilai AUC ROC di kisaran 0.89-0.90, yang berarti model bisa membedakan dengan baik antara pasangan node yang terhubung dan yang tidak. Kita melihat bahwa kurva langsung meningkat tajam di awal (FPR = 0.0 hingga 0.1), menunjukkan bahwa model mampu menangkap banyak pasangan produk yang benar dengan sedikit kesalahan pada threshold tinggi. Ini berarti sistem rekomendasi dapat dengan cepat mengidentifikasi bundling produk yang sangat relevan. Namun, setelah titik sekitar 0.8, kenaikannya melandai, yang menandakan bahwa untuk meningkatkan recall lebih jauh, model harus mulai memasukkan lebih banyak pasangan yang kurang relevan. Namun, ROC curve Preferential Attachment lebih linear dengan AUC hanya sekitar 0.59. Ini karena metode ini hanya mempertimbangkan produk populer tanpa melihat keterkaitan langsung antar produk. Akibatnya, model kurang efektif membedakan pasangan produk yang benar-benar relevan, sehingga peningkatan True Positive Rate lebih lambat. Dalam rekomendasi bundling, metode ini lebih cocok untuk mempromosikan produk populer tetapi kurang akurat dalam menyusun kombinasi produk yang relevan bagi pelanggan.\n",
    "\n",
    "Sedangkan, dari grafik PR Curve, tiga metode pertama (common_neighbors, jaccard, adamic_adar) memiliki pola yang hampir identik dengan precision tinggi yang stabil sebelum akhirnya turun drastis pada recall sekitar 0.85. Hal ini menunjukkan bahwa model dapat memberikan rekomendasi dengan presisi tinggi pada sebagian besar pasangan sebelum mengalami degradasi ketika semakin banyak pasangan diprediksi. Sementara itu, metode preferential_attachment memiliki tren yang sangat berbeda, dengan precision yang terus menurun seiring meningkatnya recall. Ini menunjukkan bahwa metode ini kurang mampu mempertahankan presisi saat mencoba mencakup lebih banyak pasangan, yang berarti banyak rekomendasi yang dihasilkan cenderung kurang relevan."
   ]
  },
  {
   "cell_type": "markdown",
   "metadata": {},
   "source": [
    "## Basic ML Link Prediction"
   ]
  },
  {
   "cell_type": "markdown",
   "metadata": {},
   "source": [
    "### Feature Selection"
   ]
  },
  {
   "cell_type": "code",
   "execution_count": 26,
   "metadata": {},
   "outputs": [],
   "source": [
    "def extract_features(G, edge_list):\n",
    "    features = []\n",
    "\n",
    "    for u, v in edge_list:\n",
    "        common_neighbors = len(list(nx.common_neighbors(G, u, v)))\n",
    "        jaccard = list(nx.jaccard_coefficient(G, [(u, v)]))[0][2]\n",
    "        pref_attach = list(nx.preferential_attachment(G, [(u, v)]))[0][2]\n",
    "\n",
    "        node_features = ['salesrank', 'review_cnt', 'downloads', 'rating', \n",
    "                         'in_degree', 'out_degree', 'pagerank_centrality', \n",
    "                         'betweenness_centrality', 'harmonic_closeness_centrality', \n",
    "                         'degree_centrality', 'community']\n",
    "\n",
    "        node_u_features = [G.nodes[u].get(feat, 0) for feat in node_features]\n",
    "        node_v_features = [G.nodes[v].get(feat, 0) for feat in node_features]\n",
    "\n",
    "        features.append([u, v, common_neighbors, jaccard, pref_attach] + node_u_features + node_v_features)\n",
    "\n",
    "    columns = [\"node1\", \"node2\", \"common_neighbors\", \"jaccard\", \"preferential_attachment\"] \n",
    "    columns += [f\"{feat}_u\" for feat in node_features]\n",
    "    columns += [f\"{feat}_v\" for feat in node_features]\n",
    "\n",
    "    return pd.DataFrame(features, columns=columns)\n",
    "\n",
    "def feature_selection(X_train, y_train, top_k=10):\n",
    "    mi_scores = mutual_info_classif(X_train, y_train, discrete_features='auto', random_state=42)\n",
    "\n",
    "    feature_ranking = np.argsort(mi_scores)[::-1]\n",
    "\n",
    "    selected_features = feature_ranking[:top_k]\n",
    "    X_train_selected = X_train.iloc[:, selected_features]\n",
    "\n",
    "    return X_train_selected, selected_features\n"
   ]
  },
  {
   "cell_type": "code",
   "execution_count": 27,
   "metadata": {},
   "outputs": [],
   "source": [
    "train_pairs = train_edges + train_non_edges\n",
    "train_labels = np.array([1] * len(train_edges) + [0] * len(train_non_edges))\n",
    "\n",
    "test_pairs = test_edges + test_non_edges\n",
    "test_labels = np.array([1] * len(test_edges) + [0] * len(test_non_edges))\n",
    "\n",
    "train_features = extract_features(G_train, train_pairs)\n",
    "test_features = extract_features(G_train, test_pairs)\n",
    "\n",
    "X_train = train_features.drop(columns=[\"node1\", \"node2\"])\n",
    "X_test = test_features.drop(columns=[\"node1\", \"node2\"])\n",
    "\n",
    "# X_train_selected, selected_features = feature_selection(X_train, train_labels, top_k=10)\n",
    "# selected_feature_names = X_train.columns[selected_features]\n",
    "# print(\"Fitur yang dipilih:\", selected_feature_names.tolist())\n",
    "\n",
    "# X_test_selected = X_test.iloc[:, selected_features]\n"
   ]
  },
  {
   "cell_type": "markdown",
   "metadata": {},
   "source": [
    "### Train and Evaluation"
   ]
  },
  {
   "cell_type": "code",
   "execution_count": 136,
   "metadata": {},
   "outputs": [
    {
     "name": "stdout",
     "output_type": "stream",
     "text": [
      "Method                       AUC-ROC   AP Score  Precision@1000     PR AUC  NDCG@1000\n",
      "============================================================================================================================================\n",
      "RANDOM FOREST               0.874455   0.908600        1.000000   0.909542   0.997630\n",
      "LOGISTIC REGRESSION         0.898682   0.918170        0.996000   0.919254   0.995981\n",
      "NAIVE BAYES                 0.913973   0.918488        1.000000   0.925263   0.963484\n"
     ]
    }
   ],
   "source": [
    "models = {\n",
    "    \"Random Forest\": RandomForestClassifier(n_estimators=100, random_state=42),\n",
    "    \"Logistic Regression\": LogisticRegression(max_iter=1000, random_state=42),\n",
    "    \"Naive Bayes\": GaussianNB()\n",
    "}\n",
    "\n",
    "k = 1000\n",
    "\n",
    "print(\"{:<25} {:>10} {:>10} {:>15} {:>10} {:>10}\".format(\n",
    "    \"Method\", \"AUC-ROC\", \"AP Score\", f\"Precision@{k}\", \"PR AUC\", f\"NDCG@{k}\"\n",
    "))\n",
    "print(\"=\" * 140)\n",
    "\n",
    "for name, model in models.items():\n",
    "    model.fit(X_train, train_labels)\n",
    "    \n",
    "    probabilities = model.predict_proba(X_test)[:, 1]\n",
    "    \n",
    "    # ROC Curve\n",
    "    fpr, tpr, _ = roc_curve(test_labels, probabilities)\n",
    "    roc_auc = auc(fpr, tpr)\n",
    "\n",
    "    # Precision-Recall Curve\n",
    "    precision, recall, _ = precision_recall_curve(test_labels, probabilities)\n",
    "    pr_auc = auc(recall, precision)\n",
    "\n",
    "    auc_roc = roc_auc_score(test_labels, probabilities)\n",
    "    ap_score = average_precision_score(test_labels, probabilities)\n",
    "    p_at_k = precision_at_k(test_labels, probabilities, k)\n",
    "    ndcg_score_at_k = ndcg_score([test_labels], [probabilities], k=k)\n",
    "\n",
    "    results.append((name, auc_roc, ap_score, p_at_k, pr_auc, ndcg_score_at_k))\n",
    "\n",
    "    print(\"{:<25} {:>10.6f} {:>10.6f} {:>15.6f} {:>10.6f} {:>10.6f}\".format(\n",
    "        name.upper(), auc_roc, ap_score, p_at_k, pr_auc, ndcg_score_at_k\n",
    "    ))\n"
   ]
  },
  {
   "cell_type": "markdown",
   "metadata": {},
   "source": [
    "- Naive Bayes memiliki AUC-ROC tertinggi (0.913973), menunjukkan bahwa model ini paling baik dalam membedakan pasangan link yang valid dan tidak valid.\n",
    "\n",
    "- Random Forest dan Naive Bayes memiliki Precision@1000 sempurna (1.0), berarti semua rekomendasi dalam top 1000 benar, menjadikannya pilihan kuat untuk sistem dengan batas rekomendasi ketat.\n",
    "\n",
    "- Logistic Regression adalah yang terendah dalam Precision@1000 (0.9998)\n",
    "\n",
    "- Random Forest memiliki skor NDCG@1000 tertinggi (0.997630), menandakan model ini mampu memberikan peringkat rekomendasi yang lebih relevan.\n",
    "\n",
    "- Kesimpulan: Random Forest tetap menjadi pilihan terbaik untuk akurasi peringkat dan precision tinggi, sedangkan Naive Bayes unggul dalam separability (AUC-ROC) dan trade-off antara precision dan recall (PR AUC)."
   ]
  },
  {
   "cell_type": "markdown",
   "metadata": {},
   "source": [
    "## Graph Neural Network (GNN) Link Prediction"
   ]
  },
  {
   "cell_type": "code",
   "execution_count": 114,
   "metadata": {},
   "outputs": [
    {
     "name": "stdout",
     "output_type": "stream",
     "text": [
      "Requirement already satisfied: torch-geometric in c:\\alek\\conda\\lib\\site-packages (2.6.1)\n",
      "Requirement already satisfied: aiohttp in c:\\alek\\conda\\lib\\site-packages (from torch-geometric) (3.10.5)\n",
      "Requirement already satisfied: fsspec in c:\\alek\\conda\\lib\\site-packages (from torch-geometric) (2024.6.1)\n",
      "Requirement already satisfied: jinja2 in c:\\alek\\conda\\lib\\site-packages (from torch-geometric) (3.1.4)\n",
      "Requirement already satisfied: numpy in c:\\alek\\conda\\lib\\site-packages (from torch-geometric) (1.26.4)\n",
      "Requirement already satisfied: psutil>=5.8.0 in c:\\users\\acer v15\\appdata\\roaming\\python\\python312\\site-packages (from torch-geometric) (5.9.6)\n",
      "Requirement already satisfied: pyparsing in c:\\alek\\conda\\lib\\site-packages (from torch-geometric) (3.1.2)\n",
      "Requirement already satisfied: requests in c:\\alek\\conda\\lib\\site-packages (from torch-geometric) (2.32.3)\n",
      "Requirement already satisfied: tqdm in c:\\alek\\conda\\lib\\site-packages (from torch-geometric) (4.66.5)\n",
      "Requirement already satisfied: aiohappyeyeballs>=2.3.0 in c:\\alek\\conda\\lib\\site-packages (from aiohttp->torch-geometric) (2.4.0)\n",
      "Requirement already satisfied: aiosignal>=1.1.2 in c:\\alek\\conda\\lib\\site-packages (from aiohttp->torch-geometric) (1.2.0)\n",
      "Requirement already satisfied: attrs>=17.3.0 in c:\\alek\\conda\\lib\\site-packages (from aiohttp->torch-geometric) (23.1.0)\n",
      "Requirement already satisfied: frozenlist>=1.1.1 in c:\\alek\\conda\\lib\\site-packages (from aiohttp->torch-geometric) (1.4.0)\n",
      "Requirement already satisfied: multidict<7.0,>=4.5 in c:\\alek\\conda\\lib\\site-packages (from aiohttp->torch-geometric) (6.0.4)\n",
      "Requirement already satisfied: yarl<2.0,>=1.0 in c:\\alek\\conda\\lib\\site-packages (from aiohttp->torch-geometric) (1.11.0)\n",
      "Requirement already satisfied: MarkupSafe>=2.0 in c:\\alek\\conda\\lib\\site-packages (from jinja2->torch-geometric) (2.1.3)\n",
      "Requirement already satisfied: charset-normalizer<4,>=2 in c:\\alek\\conda\\lib\\site-packages (from requests->torch-geometric) (3.3.2)\n",
      "Requirement already satisfied: idna<4,>=2.5 in c:\\alek\\conda\\lib\\site-packages (from requests->torch-geometric) (3.7)\n",
      "Requirement already satisfied: urllib3<3,>=1.21.1 in c:\\alek\\conda\\lib\\site-packages (from requests->torch-geometric) (2.2.3)\n",
      "Requirement already satisfied: certifi>=2017.4.17 in c:\\alek\\conda\\lib\\site-packages (from requests->torch-geometric) (2025.1.31)\n",
      "Requirement already satisfied: colorama in c:\\users\\acer v15\\appdata\\roaming\\python\\python312\\site-packages (from tqdm->torch-geometric) (0.4.6)\n"
     ]
    }
   ],
   "source": [
    "!pip install torch-geometric\n"
   ]
  },
  {
   "cell_type": "markdown",
   "metadata": {},
   "source": [
    "Setelah beberapa kali *tuning* dalam parameternya, model yang dibangun adalah sebagai berikut.\n",
    "\n",
    "1. **Lapisan Input**\n",
    "    - **Learnable Node Embeddings**: `torch.nn.Embedding(num_nodes, 32)`\n",
    "        - Setiap node memiliki embedding berdimensi 32.\n",
    "\n",
    "2. **Lapisan Konvolusi Graf** (GCN)\n",
    "    - **GCNConv(32 → 64)** → Konvolusi Awal\n",
    "        - Aktivasi ReLU\n",
    "        - Dropout (p=0.5)\n",
    "\n",
    "    - **GCNConv(64 → 64)** → Konvolusi Tambahan\n",
    "        - Aktivasi ReLU\n",
    "        - Dropout (p=0.5)\n",
    "\n",
    "    - **GCNConv(64 → 32)** → Konvolusi Akhir\n",
    "\n",
    "3. **Edge Decoder** (Link Prediction)\n",
    "\n",
    "    - **Dot Product Decoder**\n",
    "\n",
    "        - Menghitung $$score(u,v)=z_u * z_v$$\n",
    "        - Menghasilkan skor probabilitas untuk setiap hubungan (edge). (logit score)\n",
    "\n",
    "4. **Loss Function**\n",
    "\n",
    "    - **Binary Cross Entropy dengan Logits** (`BCEWithLogitsLoss`).\n",
    "    - **Regularisasi L2** (`torch.norm(z, p=2)`).\n",
    "\n",
    "5. **Optimisasi**\n",
    "    - **Optimizer**: AdamW\n",
    "        - Learning rate: 0.002\n",
    "        - Weight decay: 5e-4\n",
    "    - **Learning Rate Scheduler**: `StepLR(step_size=15, gamma=0.7)`\n",
    "        - Mengurangi learning rate setiap 15 epoch."
   ]
  },
  {
   "cell_type": "code",
   "execution_count": 115,
   "metadata": {},
   "outputs": [
    {
     "name": "stdout",
     "output_type": "stream",
     "text": [
      "Epoch: 001, Loss: 1.2200\n",
      "Epoch: 002, Loss: 0.7479\n",
      "Epoch: 003, Loss: 0.6618\n",
      "Epoch: 004, Loss: 0.6575\n",
      "Epoch: 005, Loss: 0.6704\n",
      "Epoch: 006, Loss: 0.6803\n",
      "Epoch: 007, Loss: 0.6824\n",
      "Epoch: 008, Loss: 0.6794\n",
      "Epoch: 009, Loss: 0.6755\n",
      "Epoch: 010, Loss: 0.6719\n",
      "Epoch: 011, Loss: 0.6695\n",
      "Epoch: 012, Loss: 0.6678\n",
      "Epoch: 013, Loss: 0.6668\n",
      "Epoch: 014, Loss: 0.6659\n",
      "Epoch: 015, Loss: 0.6653\n",
      "Epoch: 016, Loss: 0.6648\n",
      "Epoch: 017, Loss: 0.6644\n",
      "Epoch: 018, Loss: 0.6636\n",
      "Epoch: 019, Loss: 0.6627\n",
      "Epoch: 020, Loss: 0.6617\n",
      "Epoch: 021, Loss: 0.6607\n",
      "Epoch: 022, Loss: 0.6591\n",
      "Epoch: 023, Loss: 0.6576\n",
      "Epoch: 024, Loss: 0.6558\n",
      "Epoch: 025, Loss: 0.6538\n",
      "Epoch: 026, Loss: 0.6520\n",
      "Epoch: 027, Loss: 0.6499\n",
      "Epoch: 028, Loss: 0.6474\n",
      "Epoch: 029, Loss: 0.6448\n",
      "Epoch: 030, Loss: 0.6424\n",
      "Epoch: 031, Loss: 0.6396\n",
      "Epoch: 032, Loss: 0.6376\n",
      "Epoch: 033, Loss: 0.6360\n",
      "Epoch: 034, Loss: 0.6339\n",
      "Epoch: 035, Loss: 0.6321\n",
      "Epoch: 036, Loss: 0.6305\n",
      "Epoch: 037, Loss: 0.6285\n",
      "Epoch: 038, Loss: 0.6269\n",
      "Epoch: 039, Loss: 0.6253\n",
      "Epoch: 040, Loss: 0.6238\n",
      "Epoch: 041, Loss: 0.6223\n",
      "Epoch: 042, Loss: 0.6207\n",
      "Epoch: 043, Loss: 0.6194\n",
      "Epoch: 044, Loss: 0.6179\n",
      "Epoch: 045, Loss: 0.6170\n",
      "Epoch: 046, Loss: 0.6160\n",
      "Epoch: 047, Loss: 0.6152\n",
      "Epoch: 048, Loss: 0.6145\n",
      "Epoch: 049, Loss: 0.6138\n",
      "Epoch: 050, Loss: 0.6129\n",
      "Epoch: 051, Loss: 0.6129\n",
      "Epoch: 052, Loss: 0.6119\n",
      "Epoch: 053, Loss: 0.6112\n",
      "Epoch: 054, Loss: 0.6107\n",
      "Epoch: 055, Loss: 0.6103\n",
      "Epoch: 056, Loss: 0.6099\n",
      "Epoch: 057, Loss: 0.6094\n",
      "Epoch: 058, Loss: 0.6090\n",
      "Epoch: 059, Loss: 0.6085\n",
      "Epoch: 060, Loss: 0.6080\n",
      "Epoch: 061, Loss: 0.6073\n",
      "Epoch: 062, Loss: 0.6073\n",
      "Epoch: 063, Loss: 0.6071\n",
      "Epoch: 064, Loss: 0.6064\n",
      "Epoch: 065, Loss: 0.6061\n",
      "Epoch: 066, Loss: 0.6059\n",
      "Epoch: 067, Loss: 0.6056\n",
      "Epoch: 068, Loss: 0.6050\n",
      "Epoch: 069, Loss: 0.6044\n",
      "Epoch: 070, Loss: 0.6042\n",
      "Epoch: 071, Loss: 0.6038\n",
      "Epoch: 072, Loss: 0.6037\n",
      "Epoch: 073, Loss: 0.6034\n",
      "Epoch: 074, Loss: 0.6030\n",
      "Epoch: 075, Loss: 0.6027\n",
      "Epoch: 076, Loss: 0.6023\n",
      "Epoch: 077, Loss: 0.6021\n",
      "Epoch: 078, Loss: 0.6021\n",
      "Epoch: 079, Loss: 0.6020\n",
      "Epoch: 080, Loss: 0.6017\n",
      "Epoch: 081, Loss: 0.6014\n",
      "Epoch: 082, Loss: 0.6010\n",
      "Epoch: 083, Loss: 0.6009\n",
      "Epoch: 084, Loss: 0.6006\n",
      "Epoch: 085, Loss: 0.6005\n",
      "Epoch: 086, Loss: 0.5998\n",
      "Epoch: 087, Loss: 0.6001\n",
      "Epoch: 088, Loss: 0.5997\n",
      "Epoch: 089, Loss: 0.5996\n",
      "Epoch: 090, Loss: 0.5992\n",
      "Epoch: 091, Loss: 0.5995\n",
      "Epoch: 092, Loss: 0.5991\n",
      "Epoch: 093, Loss: 0.5991\n",
      "Epoch: 094, Loss: 0.5991\n",
      "Epoch: 095, Loss: 0.5986\n",
      "Epoch: 096, Loss: 0.5987\n",
      "Epoch: 097, Loss: 0.5985\n",
      "Epoch: 098, Loss: 0.5979\n",
      "Epoch: 099, Loss: 0.5981\n",
      "Epoch: 100, Loss: 0.5977\n",
      "Epoch: 101, Loss: 0.5978\n",
      "Epoch: 102, Loss: 0.5975\n",
      "Epoch: 103, Loss: 0.5976\n",
      "Epoch: 104, Loss: 0.5974\n",
      "Epoch: 105, Loss: 0.5973\n",
      "Epoch: 106, Loss: 0.5973\n",
      "Epoch: 107, Loss: 0.5971\n",
      "Epoch: 108, Loss: 0.5971\n",
      "Epoch: 109, Loss: 0.5967\n",
      "Epoch: 110, Loss: 0.5970\n",
      "Epoch: 111, Loss: 0.5971\n",
      "Epoch: 112, Loss: 0.5966\n",
      "Epoch: 113, Loss: 0.5968\n",
      "Epoch: 114, Loss: 0.5966\n",
      "Epoch: 115, Loss: 0.5966\n",
      "Epoch: 116, Loss: 0.5961\n",
      "Epoch: 117, Loss: 0.5963\n",
      "Epoch: 118, Loss: 0.5961\n",
      "Epoch: 119, Loss: 0.5965\n",
      "Epoch: 120, Loss: 0.5959\n",
      "Epoch: 121, Loss: 0.5960\n",
      "Epoch: 122, Loss: 0.5963\n",
      "Epoch: 123, Loss: 0.5959\n",
      "Epoch: 124, Loss: 0.5955\n",
      "Epoch: 125, Loss: 0.5957\n",
      "Epoch: 126, Loss: 0.5956\n",
      "Epoch: 127, Loss: 0.5956\n",
      "Epoch: 128, Loss: 0.5956\n",
      "Epoch: 129, Loss: 0.5954\n",
      "Epoch: 130, Loss: 0.5956\n",
      "Epoch: 131, Loss: 0.5956\n",
      "Epoch: 132, Loss: 0.5955\n",
      "Epoch: 133, Loss: 0.5952\n",
      "Epoch: 134, Loss: 0.5954\n",
      "Epoch: 135, Loss: 0.5949\n",
      "Epoch: 136, Loss: 0.5952\n",
      "Epoch: 137, Loss: 0.5949\n",
      "Epoch: 138, Loss: 0.5952\n",
      "Epoch: 139, Loss: 0.5948\n",
      "Epoch: 140, Loss: 0.5949\n",
      "Epoch: 141, Loss: 0.5953\n",
      "Epoch: 142, Loss: 0.5948\n",
      "Epoch: 143, Loss: 0.5949\n",
      "Epoch: 144, Loss: 0.5950\n",
      "Epoch: 145, Loss: 0.5949\n",
      "Epoch: 146, Loss: 0.5946\n",
      "Epoch: 147, Loss: 0.5950\n",
      "Epoch: 148, Loss: 0.5945\n",
      "Epoch: 149, Loss: 0.5948\n",
      "Epoch: 150, Loss: 0.5946\n",
      "Epoch: 151, Loss: 0.5942\n",
      "Epoch: 152, Loss: 0.5945\n",
      "Epoch: 153, Loss: 0.5945\n",
      "Epoch: 154, Loss: 0.5945\n",
      "Epoch: 155, Loss: 0.5943\n",
      "Epoch: 156, Loss: 0.5946\n",
      "Epoch: 157, Loss: 0.5941\n",
      "Epoch: 158, Loss: 0.5943\n",
      "Epoch: 159, Loss: 0.5944\n",
      "Epoch: 160, Loss: 0.5944\n",
      "Epoch: 161, Loss: 0.5944\n",
      "Epoch: 162, Loss: 0.5947\n",
      "Epoch: 163, Loss: 0.5943\n",
      "Epoch: 164, Loss: 0.5940\n",
      "Epoch: 165, Loss: 0.5943\n",
      "Epoch: 166, Loss: 0.5941\n",
      "Epoch: 167, Loss: 0.5943\n",
      "Epoch: 168, Loss: 0.5940\n",
      "Epoch: 169, Loss: 0.5942\n",
      "Epoch: 170, Loss: 0.5941\n",
      "Epoch: 171, Loss: 0.5942\n",
      "Epoch: 172, Loss: 0.5938\n",
      "Epoch: 173, Loss: 0.5939\n",
      "Epoch: 174, Loss: 0.5940\n",
      "Epoch: 175, Loss: 0.5939\n",
      "Epoch: 176, Loss: 0.5940\n",
      "Epoch: 177, Loss: 0.5938\n",
      "Epoch: 178, Loss: 0.5938\n",
      "Epoch: 179, Loss: 0.5941\n",
      "Epoch: 180, Loss: 0.5938\n",
      "Epoch: 181, Loss: 0.5940\n",
      "Epoch: 182, Loss: 0.5938\n",
      "Epoch: 183, Loss: 0.5940\n",
      "Epoch: 184, Loss: 0.5938\n",
      "Epoch: 185, Loss: 0.5935\n",
      "Epoch: 186, Loss: 0.5937\n",
      "Epoch: 187, Loss: 0.5939\n",
      "Epoch: 188, Loss: 0.5936\n",
      "Epoch: 189, Loss: 0.5940\n",
      "Epoch: 190, Loss: 0.5937\n",
      "Epoch: 191, Loss: 0.5938\n",
      "Epoch: 192, Loss: 0.5937\n",
      "Epoch: 193, Loss: 0.5939\n",
      "Epoch: 194, Loss: 0.5937\n",
      "Epoch: 195, Loss: 0.5937\n",
      "Epoch: 196, Loss: 0.5934\n",
      "Epoch: 197, Loss: 0.5938\n",
      "Epoch: 198, Loss: 0.5936\n",
      "Epoch: 199, Loss: 0.5939\n",
      "Epoch: 200, Loss: 0.5936\n"
     ]
    }
   ],
   "source": [
    "import torch\n",
    "from torch_geometric.data import Data\n",
    "from torch_geometric.nn import GCNConv\n",
    "from torch_geometric.utils import negative_sampling\n",
    "import torch.nn.functional as F\n",
    "from sklearn.metrics import roc_auc_score\n",
    "\n",
    "node_to_idx = {node: idx for idx, node in enumerate(G.nodes())}\n",
    "edge_index = torch.tensor(\n",
    "    [[node_to_idx[u], node_to_idx[v]] for u, v in G.edges() if u in node_to_idx and v in node_to_idx],\n",
    "    dtype=torch.long\n",
    ").t().contiguous()\n",
    "\n",
    "# Use learnable node embeddings with higher dimension\n",
    "num_nodes = G.number_of_nodes()\n",
    "embedding_dim = 64\n",
    "x = torch.nn.Embedding(num_nodes, embedding_dim).weight\n",
    "\n",
    "data = Data(x=x, edge_index=edge_index)\n",
    "\n",
    "class GNN(torch.nn.Module):\n",
    "    def __init__(self, in_channels, hidden_channels, out_channels):\n",
    "        super().__init__()\n",
    "        self.conv1 = GCNConv(in_channels, hidden_channels)\n",
    "        self.conv2 = GCNConv(hidden_channels, hidden_channels)\n",
    "        self.conv3 = GCNConv(hidden_channels, out_channels)\n",
    "        self.dropout = torch.nn.Dropout(p=0.3)\n",
    "\n",
    "    def encode(self, x, edge_index):\n",
    "        x = self.conv1(x, edge_index)\n",
    "        x = F.relu(x)\n",
    "        x = self.dropout(x)\n",
    "        x = self.conv2(x, edge_index)\n",
    "        x = F.relu(x)\n",
    "        x = self.dropout(x)\n",
    "        return self.conv3(x, edge_index)\n",
    "\n",
    "    def decode(self, z, edge_label_index):\n",
    "        return (z[edge_label_index[0]] * z[edge_label_index[1]]).sum(dim=-1)\n",
    "\n",
    "# Initialize model and optimizer\n",
    "model = GNN(in_channels=embedding_dim, hidden_channels=64, out_channels=32)  # Increased hidden size\n",
    "optimizer = torch.optim.AdamW(model.parameters(), lr=0.005, weight_decay=5e-4)  # Adjusted learning rate & weight decay\n",
    "scheduler = torch.optim.lr_scheduler.StepLR(optimizer, step_size=15, gamma=0.7)  # More frequent LR decay\n",
    "\n",
    "# Training loop\n",
    "for epoch in range(1, 201):\n",
    "    model.train()\n",
    "    optimizer.zero_grad()\n",
    "\n",
    "    z = model.encode(data.x, data.edge_index)\n",
    "    pos_edge_index = data.edge_index\n",
    "    neg_edge_index = negative_sampling(\n",
    "        edge_index=pos_edge_index, num_nodes=data.num_nodes, num_neg_samples=2 * len(pos_edge_index[0])  # Increased negatives\n",
    "    )\n",
    "\n",
    "    pos_out = model.decode(z, pos_edge_index)\n",
    "    neg_out = model.decode(z, neg_edge_index)\n",
    "\n",
    "    out = torch.cat([pos_out, neg_out], dim=0)\n",
    "    labels = torch.cat([torch.ones(pos_out.size(0)), torch.zeros(neg_out.size(0))], dim=0)\n",
    "\n",
    "    loss = F.binary_cross_entropy_with_logits(out, labels)\n",
    "    # loss += 0.001 * torch.norm(z, p=2)  # L2 regularization\n",
    "    loss.backward()\n",
    "    optimizer.step()\n",
    "    scheduler.step()\n",
    "\n",
    "    # if epoch % 10 == 0:\n",
    "    #     print(f'Epoch: {epoch:03d}, Loss: {loss:.4f}')\n",
    "    print(f'Epoch: {epoch:03d}, Loss: {loss:.4f}')\n"
   ]
  },
  {
   "cell_type": "code",
   "execution_count": 124,
   "metadata": {},
   "outputs": [
    {
     "data": {
      "text/plain": [
       "<All keys matched successfully>"
      ]
     },
     "execution_count": 124,
     "metadata": {},
     "output_type": "execute_result"
    }
   ],
   "source": [
    "# load model weights\n",
    "model = GNN(in_channels=embedding_dim, hidden_channels=64, out_channels=32)  # Same architecture\n",
    "model.load_state_dict(torch.load(\"gnn_model.pth\"))"
   ]
  },
  {
   "cell_type": "code",
   "execution_count": 125,
   "metadata": {},
   "outputs": [
    {
     "name": "stdout",
     "output_type": "stream",
     "text": [
      "Method                       AUC-ROC   AP Score  Precision@1000     PR AUC  NDCG@1000\n",
      "============================================================================================================================================\n",
      "GNN                         0.892936   0.887992        0.984000   0.887991   0.984853\n"
     ]
    }
   ],
   "source": [
    "model.eval()\n",
    "with torch.no_grad():\n",
    "    z = model.encode(data.x, data.edge_index)\n",
    "    \n",
    "    test_edges_tensor = torch.tensor(\n",
    "        [[node_to_idx[u], node_to_idx[v]] for u, v in test_edges if u in node_to_idx and v in node_to_idx],\n",
    "        dtype=torch.long\n",
    "    ).t().contiguous()\n",
    "    test_non_edges_tensor = torch.tensor(\n",
    "        [[node_to_idx[u], node_to_idx[v]] for u, v in test_non_edges if u in node_to_idx and v in node_to_idx],\n",
    "        dtype=torch.long\n",
    "    ).t().contiguous()\n",
    "\n",
    "    test_pos_out = model.decode(z, test_edges_tensor)\n",
    "    test_neg_out = model.decode(z, test_non_edges_tensor)\n",
    "\n",
    "    out_test = torch.cat([test_pos_out, test_neg_out], dim=0)\n",
    "    labels_test = torch.cat([torch.ones(test_pos_out.size(0)), torch.zeros(test_neg_out.size(0))], dim=0)\n",
    "\n",
    "    k = 1000 \n",
    "\n",
    "    probabilities = out_test.cpu().numpy()\n",
    "    labels_np = labels_test.cpu().numpy()\n",
    "\n",
    "    fpr, tpr, _ = roc_curve(labels_np, probabilities)\n",
    "    roc_auc = auc(fpr, tpr)\n",
    "\n",
    "    precision, recall, _ = precision_recall_curve(labels_np, probabilities)\n",
    "    pr_auc = auc(recall, precision)\n",
    "\n",
    "    auc_roc = roc_auc_score(labels_np, probabilities)\n",
    "    ap_score = average_precision_score(labels_np, probabilities)\n",
    "    p_at_k = precision_at_k(labels_np, probabilities, k)\n",
    "    ndcg_score_at_k = ndcg_score([labels_np], [probabilities], k=k)\n",
    "\n",
    "    results.append((\"GNN\", auc_roc, ap_score, p_at_k, pr_auc, ndcg_score_at_k))\n",
    "\n",
    "    print(\"{:<25} {:>10} {:>10} {:>15} {:>10} {:>10}\".format(\n",
    "        \"Method\", \"AUC-ROC\", \"AP Score\", f\"Precision@{k}\", \"PR AUC\", f\"NDCG@{k}\"\n",
    "    ))\n",
    "    print(\"=\" * 140)\n",
    "    print(\"{:<25} {:>10.6f} {:>10.6f} {:>15.6f} {:>10.6f} {:>10.6f}\".format(\n",
    "        \"GNN\", auc_roc, ap_score, p_at_k, pr_auc, ndcg_score_at_k\n",
    "    ))\n"
   ]
  },
  {
   "cell_type": "code",
   "execution_count": 117,
   "metadata": {},
   "outputs": [
    {
     "name": "stdout",
     "output_type": "stream",
     "text": [
      "Success!\n"
     ]
    }
   ],
   "source": [
    "# Save the model\n",
    "torch.save(model.state_dict(), \"gnn_model.pth\")\n",
    "print(\"Success!\")"
   ]
  },
  {
   "cell_type": "markdown",
   "metadata": {},
   "source": [
    "## Perbandingan Semua Model Link Prediction"
   ]
  },
  {
   "cell_type": "code",
   "execution_count": null,
   "metadata": {},
   "outputs": [
    {
     "name": "stdout",
     "output_type": "stream",
     "text": [
      "Method                       AUC-ROC   AP Score  Precision@1000     PR AUC  NDCG@1000\n",
      "============================================================================================================================================\n",
      "COMMON_NEIGHBORS            0.897493   0.884728        0.991000   0.926171   0.991311\n",
      "JACCARD                     0.896292   0.880814        0.969000   0.921265   0.968421\n",
      "ADAMIC_ADAR                 0.897755   0.885336        0.980000   0.925751   0.982933\n",
      "PREFERENTIAL_ATTACHMENT     0.599536   0.620427        0.968000   0.623994   0.972045\n",
      "RANDOM FOREST               0.874455   0.908600        1.000000   0.909542   0.997630\n",
      "LOGISTIC REGRESSION         0.898682   0.918170        0.996000   0.919254   0.995981\n",
      "NAIVE BAYES                 0.913973   0.918488        1.000000   0.925263   0.963484\n",
      "GNN                         0.892936   0.887992        0.984000   0.887991   0.984853\n"
     ]
    }
   ],
   "source": [
    "print(\"{:<25} {:>10} {:>10} {:>15} {:>10} {:>10}\".format(\n",
    "        \"Method\", \"AUC-ROC\", \"AP Score\", f\"Precision@{k}\", \"PR AUC\", f\"NDCG@{k}\"\n",
    "    ))\n",
    "print(\"=\" * 140)\n",
    "for method, auc_roc, ap_score, p_at_k, pr_auc, ndcg_score_at_k in results:\n",
    "    print(\"{:<25} {:>10.6f} {:>10.6f} {:>15.6f} {:>10.6f} {:>10.6f}\".format(\n",
    "        method.upper(), auc_roc, ap_score, p_at_k, pr_auc, ndcg_score_at_k\n",
    "    ))"
   ]
  },
  {
   "cell_type": "markdown",
   "metadata": {},
   "source": [
    "- Naïve Bayes dan Random Forest memiliki Precision@1000 = 1.0, menunjukkan prediksinya sangat akurat dalam top-1000 rekomendasi.\n",
    "- Random Forest memiliki nilai NDCG@1000 tertinggi (0.997630), menunjukkan ranking prediksi yang sangat baik.\n",
    "- Preferential Attachment memiliki performa terburuk (AUC-ROC = 0.599536), yang menunjukkan metode ini tidak efektif untuk dataset ini.\n",
    "- GNN memiliki performa seimbang, tetapi tidak lebih unggul dibandingkan metode Machine Learning tradisional seperti Naïve Bayes dan Logistic Regression.\n",
    "\n",
    "**Kesimpulan**:\n",
    "- Machine Learning (Random Forest, Naïve Bayes, Logistic Regression) lebih unggul dibanding heuristik klasik dan GNN dalam skenario ini.\n",
    "- Random Forest menjadi model terbaik secara keseluruhan, terutama dalam ranking prediksi (NDCG@1000).\n",
    "- Heuristik seperti Common Neighbors dan Adamic-Adar tetap kompetitif dibanding model ML biasa atau  GNN."
   ]
  }
 ],
 "metadata": {
  "kernelspec": {
   "display_name": "base",
   "language": "python",
   "name": "python3"
  },
  "language_info": {
   "codemirror_mode": {
    "name": "ipython",
    "version": 3
   },
   "file_extension": ".py",
   "mimetype": "text/x-python",
   "name": "python",
   "nbconvert_exporter": "python",
   "pygments_lexer": "ipython3",
   "version": "3.12.7"
  }
 },
 "nbformat": 4,
 "nbformat_minor": 2
}
