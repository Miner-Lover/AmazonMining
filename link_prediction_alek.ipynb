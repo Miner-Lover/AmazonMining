{
 "cells": [
  {
   "cell_type": "markdown",
   "metadata": {},
   "source": [
    "# Link Prediction"
   ]
  },
  {
   "cell_type": "markdown",
   "metadata": {},
   "source": [
    "GPU acceleration dengan CUDA"
   ]
  },
  {
   "cell_type": "code",
   "execution_count": 8,
   "metadata": {},
   "outputs": [
    {
     "name": "stdout",
     "output_type": "stream",
     "text": [
      "env: NX_CUGRAPH_AUTOCONFIG=True\n"
     ]
    }
   ],
   "source": [
    "%env NX_CUGRAPH_AUTOCONFIG=True"
   ]
  },
  {
   "cell_type": "code",
   "execution_count": 9,
   "metadata": {},
   "outputs": [
    {
     "name": "stdout",
     "output_type": "stream",
     "text": [
      "Requirement already satisfied: igraph in c:\\alek\\conda\\lib\\site-packages (0.11.8)\n",
      "Requirement already satisfied: texttable>=1.6.2 in c:\\alek\\conda\\lib\\site-packages (from igraph) (1.7.0)\n"
     ]
    }
   ],
   "source": [
    "!pip install igraph"
   ]
  },
  {
   "cell_type": "code",
   "execution_count": 10,
   "metadata": {},
   "outputs": [
    {
     "name": "stdout",
     "output_type": "stream",
     "text": [
      "Requirement already satisfied: networkit in c:\\alek\\conda\\lib\\site-packages (11.1)\n",
      "Requirement already satisfied: scipy in c:\\alek\\conda\\lib\\site-packages (from networkit) (1.13.1)\n",
      "Requirement already satisfied: numpy in c:\\alek\\conda\\lib\\site-packages (from networkit) (1.26.4)\n"
     ]
    }
   ],
   "source": [
    "!pip install networkit"
   ]
  },
  {
   "cell_type": "code",
   "execution_count": 11,
   "metadata": {},
   "outputs": [
    {
     "data": {
      "text/html": [
       "\n",
       "\t\t\t<script type=\"text/javascript\">\n",
       "\t\t\t<!--\n",
       "\t\t\t\t\n",
       "\t\t\t{\n",
       "\t\t\t\tvar element = document.getElementById('NetworKit_script');\n",
       "\t\t\t\tif (element) {\n",
       "\t\t\t\t\telement.parentNode.removeChild(element);\n",
       "\t\t\t\t}\n",
       "\t\t\t\telement = document.createElement('script');\n",
       "\t\t\t\telement.type = 'text/javascript';\n",
       "\t\t\t\telement.innerHTML = 'function NetworKit_pageEmbed(id) { var i, j; var elements; elements = document.getElementById(id).getElementsByClassName(\"Plot\"); for (i=0; i<elements.length; i++) { elements[i].id = id + \"_Plot_\" + i; var data = elements[i].getAttribute(\"data-image\").split(\"|\"); elements[i].removeAttribute(\"data-image\"); var content = \"<div class=\\\\\"Image\\\\\" id=\\\\\"\" + elements[i].id + \"_Image\\\\\" />\"; elements[i].innerHTML = content; elements[i].setAttribute(\"data-image-index\", 0); elements[i].setAttribute(\"data-image-length\", data.length); for (j=0; j<data.length; j++) { elements[i].setAttribute(\"data-image-\" + j, data[j]); } NetworKit_plotUpdate(elements[i]); elements[i].onclick = function (e) { NetworKit_overlayShow((e.target) ? e.target : e.srcElement); } } elements = document.getElementById(id).getElementsByClassName(\"HeatCell\"); for (i=0; i<elements.length; i++) { var data = parseFloat(elements[i].getAttribute(\"data-heat\")); var color = \"#00FF00\"; if (data <= 1 && data > 0) { color = \"hsla(0, 100%, 75%, \" + (data) + \")\"; } else if (data <= 0 && data >= -1) { color = \"hsla(240, 100%, 75%, \" + (-data) + \")\"; } elements[i].style.backgroundColor = color; } elements = document.getElementById(id).getElementsByClassName(\"Details\"); for (i=0; i<elements.length; i++) { elements[i].setAttribute(\"data-title\", \"-\"); NetworKit_toggleDetails(elements[i]); elements[i].onclick = function (e) { NetworKit_toggleDetails((e.target) ? e.target : e.srcElement); } } elements = document.getElementById(id).getElementsByClassName(\"MathValue\"); for (i=elements.length-1; i>=0; i--) { value = elements[i].innerHTML.trim(); if (value === \"nan\") { elements[i].parentNode.innerHTML = \"\" } } elements = document.getElementById(id).getElementsByClassName(\"SubCategory\"); for (i=elements.length-1; i>=0; i--) { value = elements[i].innerHTML.trim(); if (value === \"\") { elements[i].parentNode.removeChild(elements[i]) } } elements = document.getElementById(id).getElementsByClassName(\"Category\"); for (i=elements.length-1; i>=0; i--) { value = elements[i].innerHTML.trim(); if (value === \"\") { elements[i].parentNode.removeChild(elements[i]) } } var isFirefox = false; try { isFirefox = typeof InstallTrigger !== \"undefined\"; } catch (e) {} if (!isFirefox) { alert(\"Currently the function\\'s output is only fully supported by Firefox.\"); } } function NetworKit_plotUpdate(source) { var index = source.getAttribute(\"data-image-index\"); var data = source.getAttribute(\"data-image-\" + index); var image = document.getElementById(source.id + \"_Image\"); image.style.backgroundImage = \"url(\" + data + \")\"; } function NetworKit_showElement(id, show) { var element = document.getElementById(id); element.style.display = (show) ? \"block\" : \"none\"; } function NetworKit_overlayShow(source) { NetworKit_overlayUpdate(source); NetworKit_showElement(\"NetworKit_Overlay\", true); } function NetworKit_overlayUpdate(source) { document.getElementById(\"NetworKit_Overlay_Title\").innerHTML = source.title; var index = source.getAttribute(\"data-image-index\"); var data = source.getAttribute(\"data-image-\" + index); var image = document.getElementById(\"NetworKit_Overlay_Image\"); image.setAttribute(\"data-id\", source.id); image.style.backgroundImage = \"url(\" + data + \")\"; var link = document.getElementById(\"NetworKit_Overlay_Toolbar_Bottom_Save\"); link.href = data; link.download = source.title + \".svg\"; } function NetworKit_overlayImageShift(delta) { var image = document.getElementById(\"NetworKit_Overlay_Image\"); var source = document.getElementById(image.getAttribute(\"data-id\")); var index = parseInt(source.getAttribute(\"data-image-index\")); var length = parseInt(source.getAttribute(\"data-image-length\")); var index = (index+delta) % length; if (index < 0) { index = length + index; } source.setAttribute(\"data-image-index\", index); NetworKit_overlayUpdate(source); } function NetworKit_toggleDetails(source) { var childs = source.children; var show = false; if (source.getAttribute(\"data-title\") == \"-\") { source.setAttribute(\"data-title\", \"+\"); show = false; } else { source.setAttribute(\"data-title\", \"-\"); show = true; } for (i=0; i<childs.length; i++) { if (show) { childs[i].style.display = \"block\"; } else { childs[i].style.display = \"none\"; } } }';\n",
       "\t\t\t\telement.setAttribute('id', 'NetworKit_script');\n",
       "\t\t\t\tdocument.head.appendChild(element);\n",
       "\t\t\t}\n",
       "\t\t\n",
       "\t\t\t\t\n",
       "\t\t\t{\n",
       "\t\t\t\tvar element = document.getElementById('NetworKit_style');\n",
       "\t\t\t\tif (element) {\n",
       "\t\t\t\t\telement.parentNode.removeChild(element);\n",
       "\t\t\t\t}\n",
       "\t\t\t\telement = document.createElement('style');\n",
       "\t\t\t\telement.type = 'text/css';\n",
       "\t\t\t\telement.innerHTML = '.NetworKit_Page { font-family: Arial, Helvetica, sans-serif; font-size: 14px; } .NetworKit_Page .Value:before { font-family: Arial, Helvetica, sans-serif; font-size: 1.05em; content: attr(data-title) \":\"; margin-left: -2.5em; padding-right: 0.5em; } .NetworKit_Page .Details .Value:before { display: block; } .NetworKit_Page .Value { font-family: monospace; white-space: pre; padding-left: 2.5em; white-space: -moz-pre-wrap !important; white-space: -pre-wrap; white-space: -o-pre-wrap; white-space: pre-wrap; word-wrap: break-word; tab-size: 4; -moz-tab-size: 4; } .NetworKit_Page .Category { clear: both; padding-left: 1em; margin-bottom: 1.5em; } .NetworKit_Page .Category:before { content: attr(data-title); font-size: 1.75em; display: block; margin-left: -0.8em; margin-bottom: 0.5em; } .NetworKit_Page .SubCategory { margin-bottom: 1.5em; padding-left: 1em; } .NetworKit_Page .SubCategory:before { font-size: 1.6em; display: block; margin-left: -0.8em; margin-bottom: 0.5em; } .NetworKit_Page .SubCategory[data-title]:before { content: attr(data-title); } .NetworKit_Page .Block { display: block; } .NetworKit_Page .Block:after { content: \".\"; visibility: hidden; display: block; height: 0; clear: both; } .NetworKit_Page .Block .Thumbnail_Overview, .NetworKit_Page .Block .Thumbnail_ScatterPlot { width: 260px; float: left; } .NetworKit_Page .Block .Thumbnail_Overview img, .NetworKit_Page .Block .Thumbnail_ScatterPlot img { width: 260px; } .NetworKit_Page .Block .Thumbnail_Overview:before, .NetworKit_Page .Block .Thumbnail_ScatterPlot:before { display: block; text-align: center; font-weight: bold; } .NetworKit_Page .Block .Thumbnail_Overview:before { content: attr(data-title); } .NetworKit_Page .HeatCell { font-family: \"Courier New\", Courier, monospace; cursor: pointer; } .NetworKit_Page .HeatCell, .NetworKit_Page .HeatCellName { display: inline; padding: 0.1em; margin-right: 2px; background-color: #FFFFFF } .NetworKit_Page .HeatCellName { margin-left: 0.25em; } .NetworKit_Page .HeatCell:before { content: attr(data-heat); display: inline-block; color: #000000; width: 4em; text-align: center; } .NetworKit_Page .Measure { clear: both; } .NetworKit_Page .Measure .Details { cursor: pointer; } .NetworKit_Page .Measure .Details:before { content: \"[\" attr(data-title) \"]\"; display: block; } .NetworKit_Page .Measure .Details .Value { border-left: 1px dotted black; margin-left: 0.4em; padding-left: 3.5em; pointer-events: none; } .NetworKit_Page .Measure .Details .Spacer:before { content: \".\"; opacity: 0.0; pointer-events: none; } .NetworKit_Page .Measure .Plot { width: 440px; height: 440px; cursor: pointer; float: left; margin-left: -0.9em; margin-right: 20px; } .NetworKit_Page .Measure .Plot .Image { background-repeat: no-repeat; background-position: center center; background-size: contain; height: 100%; pointer-events: none; } .NetworKit_Page .Measure .Stat { width: 500px; float: left; } .NetworKit_Page .Measure .Stat .Group { padding-left: 1.25em; margin-bottom: 0.75em; } .NetworKit_Page .Measure .Stat .Group .Title { font-size: 1.1em; display: block; margin-bottom: 0.3em; margin-left: -0.75em; border-right-style: dotted; border-right-width: 1px; border-bottom-style: dotted; border-bottom-width: 1px; background-color: #D0D0D0; padding-left: 0.2em; } .NetworKit_Page .Measure .Stat .Group .List { -webkit-column-count: 3; -moz-column-count: 3; column-count: 3; } .NetworKit_Page .Measure .Stat .Group .List .Entry { position: relative; line-height: 1.75em; } .NetworKit_Page .Measure .Stat .Group .List .Entry[data-tooltip]:before { position: absolute; left: 0; top: -40px; background-color: #808080; color: #ffffff; height: 30px; line-height: 30px; border-radius: 5px; padding: 0 15px; content: attr(data-tooltip); white-space: nowrap; display: none; } .NetworKit_Page .Measure .Stat .Group .List .Entry[data-tooltip]:after { position: absolute; left: 15px; top: -10px; border-top: 7px solid #808080; border-left: 7px solid transparent; border-right: 7px solid transparent; content: \"\"; display: none; } .NetworKit_Page .Measure .Stat .Group .List .Entry[data-tooltip]:hover:after, .NetworKit_Page .Measure .Stat .Group .List .Entry[data-tooltip]:hover:before { display: block; } .NetworKit_Page .Measure .Stat .Group .List .Entry .MathValue { font-family: \"Courier New\", Courier, monospace; } .NetworKit_Page .Measure:after { content: \".\"; visibility: hidden; display: block; height: 0; clear: both; } .NetworKit_Page .PartitionPie { clear: both; } .NetworKit_Page .PartitionPie img { width: 600px; } #NetworKit_Overlay { left: 0px; top: 0px; display: none; position: absolute; width: 100%; height: 100%; background-color: rgba(0,0,0,0.6); z-index: 1000; } #NetworKit_Overlay_Title { position: absolute; color: white; transform: rotate(-90deg); width: 32em; height: 32em; padding-right: 0.5em; padding-top: 0.5em; text-align: right; font-size: 40px; } #NetworKit_Overlay .button { background: white; cursor: pointer; } #NetworKit_Overlay .button:before { size: 13px; display: inline-block; text-align: center; margin-top: 0.5em; margin-bottom: 0.5em; width: 1.5em; height: 1.5em; } #NetworKit_Overlay .icon-close:before { content: \"X\"; } #NetworKit_Overlay .icon-previous:before { content: \"P\"; } #NetworKit_Overlay .icon-next:before { content: \"N\"; } #NetworKit_Overlay .icon-save:before { content: \"S\"; } #NetworKit_Overlay_Toolbar_Top, #NetworKit_Overlay_Toolbar_Bottom { position: absolute; width: 40px; right: 13px; text-align: right; z-index: 1100; } #NetworKit_Overlay_Toolbar_Top { top: 0.5em; } #NetworKit_Overlay_Toolbar_Bottom { Bottom: 0.5em; } #NetworKit_Overlay_ImageContainer { position: absolute; top: 5%; left: 5%; height: 90%; width: 90%; background-repeat: no-repeat; background-position: center center; background-size: contain; } #NetworKit_Overlay_Image { height: 100%; width: 100%; background-repeat: no-repeat; background-position: center center; background-size: contain; }';\n",
       "\t\t\t\telement.setAttribute('id', 'NetworKit_style');\n",
       "\t\t\t\tdocument.head.appendChild(element);\n",
       "\t\t\t}\n",
       "\t\t\n",
       "\t\t\t\t\n",
       "\t\t\t{\n",
       "\t\t\t\tvar element = document.getElementById('NetworKit_Overlay');\n",
       "\t\t\t\tif (element) {\n",
       "\t\t\t\t\telement.parentNode.removeChild(element);\n",
       "\t\t\t\t}\n",
       "\t\t\t\telement = document.createElement('div');\n",
       "\t\t\t\telement.innerHTML = '<div id=\"NetworKit_Overlay_Toolbar_Top\"><div class=\"button icon-close\" id=\"NetworKit_Overlay_Close\" /></div><div id=\"NetworKit_Overlay_Title\" /> <div id=\"NetworKit_Overlay_ImageContainer\"> <div id=\"NetworKit_Overlay_Image\" /> </div> <div id=\"NetworKit_Overlay_Toolbar_Bottom\"> <div class=\"button icon-previous\" onclick=\"NetworKit_overlayImageShift(-1)\" /> <div class=\"button icon-next\" onclick=\"NetworKit_overlayImageShift(1)\" /> <a id=\"NetworKit_Overlay_Toolbar_Bottom_Save\"><div class=\"button icon-save\" /></a> </div>';\n",
       "\t\t\t\telement.setAttribute('id', 'NetworKit_Overlay');\n",
       "\t\t\t\tdocument.body.appendChild(element);\n",
       "\t\t\t\tdocument.getElementById('NetworKit_Overlay_Close').onclick = function (e) {\n",
       "\t\t\t\t\tdocument.getElementById('NetworKit_Overlay').style.display = 'none';\n",
       "\t\t\t\t}\n",
       "\t\t\t}\n",
       "\t\t\n",
       "\t\t\t-->\n",
       "\t\t\t</script>\n",
       "\t\t"
      ]
     },
     "metadata": {},
     "output_type": "display_data"
    }
   ],
   "source": [
    "import pandas as pd\n",
    "import matplotlib.pyplot as plt\n",
    "import seaborn as sns\n",
    "import numpy as np\n",
    "import networkx as nx\n",
    "import pickle\n",
    "import random\n",
    "import igraph as ig\n",
    "import networkit as nk\n",
    "\n",
    "from itertools import combinations\n",
    "from sklearn.metrics import roc_auc_score, average_precision_score, f1_score, precision_score, recall_score\n",
    "from sklearn.model_selection import train_test_split\n",
    "from sklearn.feature_selection import mutual_info_classif\n",
    "from tqdm import tqdm\n",
    "from sklearn.ensemble import RandomForestClassifier\n",
    "from sklearn.linear_model import LogisticRegression\n",
    "from sklearn.naive_bayes import GaussianNB"
   ]
  },
  {
   "cell_type": "markdown",
   "metadata": {},
   "source": [
    "## Dataset Preparation"
   ]
  },
  {
   "cell_type": "code",
   "execution_count": 12,
   "metadata": {},
   "outputs": [
    {
     "name": "stdout",
     "output_type": "stream",
     "text": [
      "DiGraph with 259102 nodes and 1207337 edges\n"
     ]
    }
   ],
   "source": [
    "pickle_file_path = 'dataset/amazon_copurchase_graph.pickle'\n",
    "with open(pickle_file_path, 'rb') as f:\n",
    "    G = pickle.load(f)\n",
    "\n",
    "print(G)"
   ]
  },
  {
   "cell_type": "markdown",
   "metadata": {},
   "source": [
    "### Features"
   ]
  },
  {
   "cell_type": "markdown",
   "metadata": {},
   "source": [
    "#### Node Features"
   ]
  },
  {
   "cell_type": "code",
   "execution_count": 13,
   "metadata": {},
   "outputs": [
    {
     "name": "stdout",
     "output_type": "stream",
     "text": [
      "Total Nodes: 259102\n",
      "Node: 1, Data: {'title': 'Patterns of Preaching: A Sermon Sampler', 'group': 'Book', 'salesrank': 396585.0, 'review_cnt': 2, 'downloads': 2, 'rating': 5.0, 'in_degree': 0, 'out_degree': 4, 'pagerank_centrality': 6.210153588242165e-07, 'betweenness_centrality': 0.0, 'harmonic_closeness_centrality': 0.1442557706580312, 'degree_centrality': 1.5437995221940477e-05, 'community': 10}\n",
      "Node: 2, Data: {'title': 'Candlemas: Feast of Flames', 'group': 'Book', 'salesrank': 168596.0, 'review_cnt': 12, 'downloads': 12, 'rating': 4.5, 'in_degree': 1, 'out_degree': 4, 'pagerank_centrality': 7.560926314778459e-07, 'betweenness_centrality': 31563.672353370643, 'harmonic_closeness_centrality': 0.1444868764333364, 'degree_centrality': 1.92974940274256e-05, 'community': 10}\n",
      "Node: 4, Data: {'title': 'Life Application Bible Commentary: 1 and 2 Timothy and Titus', 'group': 'Book', 'salesrank': 631289.0, 'review_cnt': 1, 'downloads': 1, 'rating': 4.0, 'in_degree': 24, 'out_degree': 5, 'pagerank_centrality': 1.3446471408497216e-05, 'betweenness_centrality': 6528478.270207832, 'harmonic_closeness_centrality': 0.1558843156023248, 'degree_centrality': 0.000111925465359, 'community': 10}\n",
      "Node: 5, Data: {'title': 'Prayers That Avail Much for Business: Executive', 'group': 'Book', 'salesrank': 455160.0, 'review_cnt': 0, 'downloads': 0, 'rating': 0.0, 'in_degree': 53, 'out_degree': 5, 'pagerank_centrality': 8.23889149307843e-05, 'betweenness_centrality': 15442396.471775234, 'harmonic_closeness_centrality': 0.1658204661474067, 'degree_centrality': 0.0002238509307181, 'community': 10}\n",
      "Node: 15, Data: {'title': 'Wake Up and Smell the Coffee', 'group': 'Book', 'salesrank': 518927.0, 'review_cnt': 8, 'downloads': 8, 'rating': 4.0, 'in_degree': 21, 'out_degree': 5, 'pagerank_centrality': 1.545618113196135e-05, 'betweenness_centrality': 15218614.387948066, 'harmonic_closeness_centrality': 0.1433003301418181, 'degree_centrality': 0.0001003469689426, 'community': 31}\n",
      "\n",
      "Node features: ['title', 'group', 'salesrank', 'review_cnt', 'downloads', 'rating', 'in_degree', 'out_degree', 'pagerank_centrality', 'betweenness_centrality', 'harmonic_closeness_centrality', 'degree_centrality', 'community']\n"
     ]
    }
   ],
   "source": [
    "\n",
    "print(f\"Total Nodes: {G.number_of_nodes()}\")\n",
    "\n",
    "\n",
    "for node, data in list(G.nodes(data=True))[:5]:\n",
    "    print(f\"Node: {node}, Data: {data}\")\n",
    "\n",
    "print()\n",
    "sample_node = next(iter(G.nodes(data=True)))[1]\n",
    "print(\"Node features:\", list(sample_node.keys()))"
   ]
  },
  {
   "cell_type": "markdown",
   "metadata": {},
   "source": [
    "Fitur-fitur dari node dalam graph ini meliputi:  \n",
    "\n",
    "*   **`title`**:  \n",
    "    *   **Tipe Data**: String (Teks)  \n",
    "    *   **Deskripsi**: Nama atau judul produk. Fitur ini memberikan deskripsi tekstual tentang produk yang dimaksud.  \n",
    "    *   **Contoh**: \"Patterns of Preaching: A Sermon Sampler\", \"Candlemas: Feast of Flames\", dll.  \n",
    "\n",
    "*   **`group`**:  \n",
    "    *   **Tipe Data**: String (Kategorikal)  \n",
    "    *   **Deskripsi**: Kategori atau grup tempat produk tersebut berada. Fitur ini membantu dalam memahami jenis produk (misalnya, Buku, Musik, DVD, dll.).  \n",
    "    *   **Contoh**: \"Book\"  \n",
    "\n",
    "*   **`salesrank`**:  \n",
    "    *   **Tipe Data**: Float  \n",
    "    *   **Deskripsi**: Peringkat penjualan produk di Amazon. Semakin rendah nilai `salesrank`, semakin tinggi tingkat penjualan dan popularitasnya. Fitur ini sering digunakan untuk mengukur seberapa baik suatu produk terjual di Amazon.  \n",
    "    *   **Contoh**: `396585.0`, `168596.0`, `1270652.0`, dll.  \n",
    "\n",
    "*   **`review_cnt`**:  \n",
    "    *   **Tipe Data**: Integer  \n",
    "    *   **Deskripsi**: Jumlah ulasan pelanggan yang diterima oleh produk. Nilai `review_cnt` yang lebih tinggi bisa menunjukkan tingkat visibilitas produk yang lebih besar, popularitas yang lebih tinggi, atau keterlibatan pelanggan yang lebih banyak.  \n",
    "    *   **Contoh**: `2`, `12`, `1`, `1`, `0`, dll.  \n",
    "\n",
    "*   **`downloads`**:  \n",
    "    *   **Tipe Data**: Integer  \n",
    "    *   **Deskripsi**: Jumlah unduhan yang terkait dengan produk. Makna pastinya dapat bervariasi tergantung pada sumber dataset. Bisa saja mewakili unduhan produk digital atau metrik keterlibatan lainnya. Dalam konteks produk \"Book\" pada contoh ini, bisa merujuk pada unduhan sampel buku atau bentuk keterlibatan lain yang relevan dengan dataset.  \n",
    "    *   **Contoh**: `2`, `12`, `1`, `1`, `0`, dll.  \n",
    "\n",
    "*   **`rating`**:  \n",
    "    *   **Tipe Data**: Float  \n",
    "    *   **Deskripsi**: Rata-rata rating pelanggan terhadap produk, biasanya dalam skala 0 hingga 5 (atau sistem serupa). Fitur ini mencerminkan tingkat kepuasan pelanggan serta persepsi kualitas produk secara keseluruhan.  \n",
    "    *   **Contoh**: `5.0`, `4.5`, `5.0`, `4.0`, `0.0`, dll.   \n",
    "\n",
    "*   **`in_degree`**:  \n",
    "    *   **Tipe Data**: Integer  \n",
    "    *   **Deskripsi**: Jumlah edge (sisi) yang masuk ke node ini. Menunjukkan seberapa banyak produk lain yang terhubung ke produk ini dalam graph. Dalam konteks dataset ini, bisa menunjukkan seberapa sering produk ini direferensikan oleh produk lain.  \n",
    "    *   **Contoh**: `0`, `1`, `24`, `53`, `21`, dll.  \n",
    "\n",
    "*   **`out_degree`**:  \n",
    "    *   **Tipe Data**: Integer  \n",
    "    *   **Deskripsi**: Jumlah edge (sisi) yang keluar dari node ini. Menunjukkan seberapa banyak produk lain yang direferensikan oleh produk ini.  \n",
    "    *   **Contoh**: `4`, `4`, `5`, `5`, `5`, dll.  \n",
    "\n",
    "*   **`pagerank_centrality`**:  \n",
    "    *   **Tipe Data**: Float  \n",
    "    *   **Deskripsi**: Skor PageRank node dalam graph. Metrik ini mengukur kepentingan sebuah node berdasarkan jumlah dan kualitas tautan yang mengarah ke node tersebut. Semakin tinggi nilainya, semakin berpengaruh node tersebut dalam jaringan.  \n",
    "    *   **Contoh**: `6.21e-07`, `7.56e-07`, `1.34e-05`, dll.  \n",
    "\n",
    "*   **`betweenness_centrality`**:  \n",
    "    *   **Tipe Data**: Float  \n",
    "    *   **Deskripsi**: Mengukur seberapa sering sebuah node menjadi perantara dalam jalur terpendek antara dua node lainnya. Node dengan betweenness centrality tinggi berperan sebagai \"jembatan\" yang menghubungkan berbagai bagian dalam graph.  \n",
    "    *   **Contoh**: `0.0`, `31563.67`, `6528478.27`, `15442396.47`, dll.  \n",
    "\n",
    "*   **`harmonic_closeness_centrality`**:  \n",
    "    *   **Tipe Data**: Float  \n",
    "    *   **Deskripsi**: Versi alternatif dari closeness centrality yang menghitung seberapa dekat suatu node dengan node lain berdasarkan jarak harmonik. Makin tinggi nilainya, makin dekat node tersebut ke banyak node lain dalam graph.  \n",
    "    *   **Contoh**: `0.1442`, `0.1444`, `0.1558`, `0.1658`, dll.  \n",
    "\n",
    "*   **`degree_centrality`**:  \n",
    "    *   **Tipe Data**: Float  \n",
    "    *   **Deskripsi**: Mengukur proporsi node lain yang terhubung dengan node ini dalam graph. Degree centrality dihitung sebagai jumlah total koneksi (degree) node ini dibagi dengan jumlah maksimum koneksi yang mungkin dalam graph.  \n",
    "    *   **Contoh**: `1.54e-05`, `1.92e-05`, `1.11e-04`, `2.23e-04`, dll.  \n",
    "\n",
    "*   **`community`**:  \n",
    "    *   **Tipe Data**: Integer (Kategorikal)  \n",
    "    *   **Deskripsi**: Identitas komunitas tempat node ini tergabung, berdasarkan algoritma deteksi komunitas. Node dalam komunitas yang sama lebih cenderung saling terhubung dibandingkan dengan node di komunitas lain.  \n",
    "    *   **Contoh**: `10`, `10`, `10`, `31`, dll.  "
   ]
  },
  {
   "cell_type": "markdown",
   "metadata": {},
   "source": [
    "#### Edge Features"
   ]
  },
  {
   "cell_type": "code",
   "execution_count": 14,
   "metadata": {},
   "outputs": [
    {
     "name": "stdout",
     "output_type": "stream",
     "text": [
      "Total Edges: 1207337\n",
      "Edge: (1, 2), Data: {}\n",
      "Edge: (1, 4), Data: {}\n",
      "Edge: (1, 5), Data: {}\n",
      "Edge: (1, 15), Data: {}\n",
      "Edge: (2, 11), Data: {}\n",
      "\n",
      "Edge features: []\n"
     ]
    }
   ],
   "source": [
    "print(f\"Total Edges: {G.number_of_edges()}\")\n",
    "\n",
    "for u, v, data in list(G.edges(data=True))[:5]:\n",
    "    print(f\"Edge: ({u}, {v}), Data: {data}\")\n",
    "\n",
    "sample_edge = next(iter(G.edges(data=True)))[2]\n",
    "print(\"\\nEdge features:\", list(sample_edge.keys()))\n"
   ]
  },
  {
   "cell_type": "markdown",
   "metadata": {},
   "source": [
    "Tidak ada edge feature pada graph ini"
   ]
  },
  {
   "cell_type": "markdown",
   "metadata": {},
   "source": [
    "### Split Dataset"
   ]
  },
  {
   "cell_type": "code",
   "execution_count": 15,
   "metadata": {},
   "outputs": [
    {
     "name": "stdout",
     "output_type": "stream",
     "text": [
      "Train Edges: 965869, Test Edges: 241468\n",
      "Train Non-Edges: 965869, Test Non-Edges: 241468\n"
     ]
    }
   ],
   "source": [
    "nkG = nk.nxadapter.nx2nk(G)\n",
    "\n",
    "edges = list(G.edges())\n",
    "existing_edges = set(edges)\n",
    "\n",
    "# Sampling dengan Networkit Graph (lebih cepat)\n",
    "def sample_non_edges_nk(nkG, num_samples):\n",
    "    non_edges = set()\n",
    "    nodes = list(G.nodes())\n",
    "\n",
    "    while len(non_edges) < num_samples:\n",
    "        u, v = random.sample(nodes, 2)\n",
    "        if not nkG.hasEdge(u, v):  \n",
    "            non_edges.add((u, v))\n",
    "\n",
    "    return list(non_edges)\n",
    "\n",
    "num_samples = len(edges) \n",
    "non_edges = sample_non_edges_nk(nkG, num_samples)\n",
    "\n",
    "train_edges, test_edges = train_test_split(edges, test_size=0.2, random_state=42)\n",
    "train_non_edges = random.sample(non_edges, len(train_edges)) \n",
    "test_non_edges = random.sample(non_edges, len(test_edges)) \n",
    "\n",
    "G_train = nx.Graph()\n",
    "G_train.add_nodes_from(G.nodes())\n",
    "G_train.add_edges_from(train_edges)\n",
    "\n",
    "print(f\"Train Edges: {len(train_edges)}, Test Edges: {len(test_edges)}\")\n",
    "print(f\"Train Non-Edges: {len(train_non_edges)}, Test Non-Edges: {len(test_non_edges)}\")"
   ]
  },
  {
   "cell_type": "markdown",
   "metadata": {},
   "source": [
    "## Heuristic Link Prediction"
   ]
  },
  {
   "cell_type": "code",
   "execution_count": 16,
   "metadata": {},
   "outputs": [],
   "source": [
    "def heuristic_score(G, node_pairs, method):\n",
    "    scores = []\n",
    "    for u, v in tqdm(node_pairs, desc=f\"Computing {method} scores\", disable=True):\n",
    "        if method == \"common_neighbors\":\n",
    "            score = len(list(nx.common_neighbors(G, u, v)))\n",
    "        elif method == \"jaccard\":\n",
    "            score = list(nx.jaccard_coefficient(G, [(u, v)]))[0][2]\n",
    "        elif method == \"adamic_adar\":\n",
    "            score = list(nx.adamic_adar_index(G, [(u, v)]))[0][2]\n",
    "        elif method == \"preferential_attachment\":\n",
    "            score = list(nx.preferential_attachment(G, [(u, v)]))[0][2]\n",
    "        else:\n",
    "            raise ValueError(\"Method not recognized\")\n",
    "        scores.append(score)\n",
    "    return scores\n"
   ]
  },
  {
   "cell_type": "code",
   "execution_count": 28,
   "metadata": {},
   "outputs": [],
   "source": [
    "# Metrik evaluasi ranking problem\n",
    "def precision_at_k(y_true, y_scores, k):\n",
    "    sorted_indices = np.argsort(y_scores)[::-1] \n",
    "    top_k = sorted_indices[:k]\n",
    "    return np.mean(y_true[top_k])\n",
    "\n",
    "def recall_at_k(y_true, y_scores, k):\n",
    "    sorted_indices = np.argsort(y_scores)[::-1]\n",
    "    top_k = sorted_indices[:k]\n",
    "    return np.sum(y_true[top_k]) / np.sum(y_true)\n",
    "\n",
    "def mean_average_precision(y_true, y_scores):\n",
    "    sorted_indices = np.argsort(y_scores)[::-1]\n",
    "    relevant = np.cumsum(y_true[sorted_indices])\n",
    "    precision_at_i = relevant / (np.arange(len(y_true)) + 1)\n",
    "    return np.sum(precision_at_i * y_true[sorted_indices]) / np.sum(y_true)\n",
    "\n",
    "def f1_beta_at_k(y_true, y_scores, k, beta=1):\n",
    "    precision_k = precision_at_k(y_true, y_scores, k)\n",
    "    recall_k = recall_at_k(y_true, y_scores, k)\n",
    "    \n",
    "    if precision_k + recall_k == 0:\n",
    "        return 0.0\n",
    "    \n",
    "    beta_sq = beta ** 2\n",
    "    return (1 + beta_sq) * (precision_k * recall_k) / ((beta_sq * precision_k) + recall_k)\n",
    "\n"
   ]
  },
  {
   "cell_type": "code",
   "execution_count": 29,
   "metadata": {},
   "outputs": [
    {
     "name": "stdout",
     "output_type": "stream",
     "text": [
      "Method                       AUC-ROC   AP Score Precision@100000   Recall@100000        MAP  F1@100000\n",
      "=========================================================================================================\n",
      "COMMON_NEIGHBORS            0.896810   0.896803        0.999990        0.414129   0.999955   0.585701\n",
      "JACCARD                     0.896811   0.896813        0.999990        0.414129   0.999959   0.585701\n",
      "ADAMIC_ADAR                 0.896814   0.896819        1.000000        0.414134   0.999965   0.585706\n",
      "PREFERENTIAL_ATTACHMENT     0.597655   0.614747        0.662180        0.274231   0.619032   0.387843\n"
     ]
    }
   ],
   "source": [
    "test_pairs = test_edges + test_non_edges\n",
    "labels = np.array([1] * len(test_edges) + [0] * len(test_non_edges))\n",
    "\n",
    "methods = [\"common_neighbors\", \"jaccard\", \"adamic_adar\", \"preferential_attachment\"]\n",
    "k = 100000\n",
    "\n",
    "print(\"{:<25} {:>10} {:>10} {:>15} {:>15} {:>10} {:>10}\".format(\n",
    "    \"Method\", \"AUC-ROC\", \"AP Score\", f\"Precision@{k}\", f\"Recall@{k}\", \"MAP\", f\"F1@{k}\"\n",
    "))\n",
    "print(\"=\" * 105)\n",
    "\n",
    "results = []\n",
    "for method in methods:\n",
    "    scores = np.array(heuristic_score(G_train, test_pairs, method))\n",
    "\n",
    "    auc_roc = roc_auc_score(labels, scores)\n",
    "    ap_score = average_precision_score(labels, scores)\n",
    "\n",
    "    p_at_k = precision_at_k(labels, scores, k)\n",
    "    r_at_k = recall_at_k(labels, scores, k)\n",
    "    map_score = mean_average_precision(labels, scores)\n",
    "    f1_k = f1_beta_at_k(labels, scores, k)\n",
    "\n",
    "    print(\"{:<25} {:>10.6f} {:>10.6f} {:>15.6f} {:>15.6f} {:>10.6f} {:>10.6f}\".format(\n",
    "        method.upper(), auc_roc, ap_score, p_at_k, r_at_k, map_score, f1_k\n",
    "    ))"
   ]
  },
  {
   "cell_type": "code",
   "execution_count": null,
   "metadata": {},
   "outputs": [
    {
     "data": {
      "image/png": "[encoded data removed]",
      "text/plain": [
       "<Figure size 1800x600 with 3 Axes>"
      ]
     },
     "metadata": {},
     "output_type": "display_data"
    }
   ],
   "source": [
    "in_degree_counts = pd.Series([degree for node, degree in G.in_degree()])\n",
    "out_degree_counts = pd.Series([degree for node, degree in G.out_degree()])\n",
    "degree_counts = pd.Series([degree for node, degree in G.degree()])\n",
    "\n",
    "fig, axes = plt.subplots(1, 3, figsize=(18, 6))\n",
    "\n",
    "sns.histplot(in_degree_counts, bins=50, log=True, ax=axes[0])\n",
    "axes[0].set_title('Distribution of In-Degree (Log Scale)')\n",
    "axes[0].set_xlabel('In-Degree')\n",
    "axes[0].set_ylabel('Frequency')\n",
    "\n",
    "sns.histplot(out_degree_counts, bins=50, log=True, ax=axes[1])\n",
    "axes[1].set_title('Distribution of Out-Degree (Log Scale)')\n",
    "axes[1].set_xlabel('Out-Degree')\n",
    "axes[1].set_ylabel('Frequency')\n",
    "\n",
    "sns.histplot(degree_counts, bins=50, log=True, ax=axes[2])\n",
    "axes[2].set_title('Distribution of Total Degree (Log Scale)')\n",
    "axes[2].set_xlabel('Total Degree')\n",
    "axes[2].set_ylabel('Frequency')\n",
    "\n",
    "plt.tight_layout()\n",
    "plt.show()\n"
   ]
  },
  {
   "cell_type": "markdown",
   "metadata": {},
   "source": [
    "Common Neighbors, Jaccard, dan Adamic-Adar menunjukkan hasil yang hampir identik karena ketiganya mengandalkan jumlah neighbor bersama untuk menentukan kemungkinan adanya edge. Seperti yang terlihat pada histogram degree, sebagian besar node memiliki degree rendah, sementara sedikit node memiliki degree sangat tinggi. Hal ini menyebabkan banyak prediksi yang benar berasal dari pasangan node yang memang memiliki neighbor bersama, sehingga metode berbasis neighbor overlap bekerja dengan sangat baik. Akurasi tinggi pada Precision@200K (0.9998) dan MAP (~0.9999) menunjukkan bahwa metode ini sangat mampu mengidentifikasi edge yang benar dengan tingkat kepastian yang tinggi.\n",
    "\n",
    "Sebaliknya, Preferential Attachment memiliki performa jauh lebih buruk karena hanya mengandalkan perkalian degree tanpa mempertimbangkan neighbor overlap. Pada graf ini, high-degree nodes sering tidak langsung terhubung, melainkan memiliki banyak neighbor yang berbeda, sehingga metode ini sering memberikan skor tinggi pada pasangan node yang sebenarnya tidak memiliki edge. Ini menjelaskan mengapa AUC-ROC dan Recall jauh lebih rendah dibanding metode lain. Oleh karena itu, dalam graf seperti ini, metode berbasis neighbor overlap lebih unggul, sementara metode berbasis degree seperti Preferential Attachment kurang efektif dalam menangkap hubungan yang sebenarnya."
   ]
  },
  {
   "cell_type": "markdown",
   "metadata": {},
   "source": [
    "## Basic ML Link Prediction"
   ]
  },
  {
   "cell_type": "markdown",
   "metadata": {},
   "source": [
    "### Feature Selection"
   ]
  },
  {
   "cell_type": "code",
   "execution_count": 20,
   "metadata": {},
   "outputs": [],
   "source": [
    "def extract_features(G, edge_list):\n",
    "    features = []\n",
    "\n",
    "    for u, v in edge_list:\n",
    "        common_neighbors = len(list(nx.common_neighbors(G, u, v)))\n",
    "        jaccard = list(nx.jaccard_coefficient(G, [(u, v)]))[0][2]\n",
    "        pref_attach = list(nx.preferential_attachment(G, [(u, v)]))[0][2]\n",
    "\n",
    "        node_features = ['salesrank', 'review_cnt', 'downloads', 'rating', \n",
    "                         'in_degree', 'out_degree', 'pagerank_centrality', \n",
    "                         'betweenness_centrality', 'harmonic_closeness_centrality', \n",
    "                         'degree_centrality', 'community']\n",
    "\n",
    "        node_u_features = [G.nodes[u].get(feat, 0) for feat in node_features]\n",
    "        node_v_features = [G.nodes[v].get(feat, 0) for feat in node_features]\n",
    "\n",
    "        features.append([u, v, common_neighbors, jaccard, pref_attach] + node_u_features + node_v_features)\n",
    "\n",
    "    columns = [\"node1\", \"node2\", \"common_neighbors\", \"jaccard\", \"preferential_attachment\"] \n",
    "    columns += [f\"{feat}_u\" for feat in node_features]\n",
    "    columns += [f\"{feat}_v\" for feat in node_features]\n",
    "\n",
    "    return pd.DataFrame(features, columns=columns)\n",
    "\n",
    "def feature_selection(X_train, y_train, top_k=10):\n",
    "    mi_scores = mutual_info_classif(X_train, y_train, discrete_features='auto', random_state=42)\n",
    "\n",
    "    feature_ranking = np.argsort(mi_scores)[::-1]\n",
    "\n",
    "    selected_features = feature_ranking[:top_k]\n",
    "    X_train_selected = X_train.iloc[:, selected_features]\n",
    "\n",
    "    return X_train_selected, selected_features\n"
   ]
  },
  {
   "cell_type": "markdown",
   "metadata": {},
   "source": [
    "### Train and Evaluation"
   ]
  },
  {
   "cell_type": "code",
   "execution_count": 30,
   "metadata": {},
   "outputs": [
    {
     "name": "stdout",
     "output_type": "stream",
     "text": [
      "Model                        AUC-ROC   AP Score Precision@100000   Recall@100000        MAP  F1@100000\n",
      "=========================================================================================================\n",
      "RANDOM FOREST               0.913669   0.941762        0.999900        0.414092   0.942984   0.585648\n",
      "LOGISTIC REGRESSION         0.896471   0.934223        0.999940        0.414109   0.935463   0.585671\n",
      "NAIVE BAYES                 0.918207   0.942835        0.999350        0.413864   0.945220   0.585326\n"
     ]
    }
   ],
   "source": [
    "train_pairs = train_edges + train_non_edges\n",
    "train_labels = np.array([1] * len(train_edges) + [0] * len(train_non_edges))\n",
    "\n",
    "test_pairs = test_edges + test_non_edges\n",
    "test_labels = np.array([1] * len(test_edges) + [0] * len(test_non_edges))\n",
    "\n",
    "train_features = extract_features(G_train, train_pairs)\n",
    "test_features = extract_features(G_train, test_pairs)\n",
    "\n",
    "X_train = train_features.drop(columns=[\"node1\", \"node2\"])\n",
    "X_test = test_features.drop(columns=[\"node1\", \"node2\"])\n",
    "\n",
    "# X_train_selected, selected_features = feature_selection(X_train, train_labels, top_k=10)\n",
    "# selected_feature_names = X_train.columns[selected_features]\n",
    "# print(\"Fitur yang dipilih:\", selected_feature_names.tolist())\n",
    "\n",
    "# X_test_selected = X_test.iloc[:, selected_features]\n",
    "\n",
    "models = {\n",
    "    \"Random Forest\": RandomForestClassifier(n_estimators=100, random_state=42),\n",
    "    \"Logistic Regression\": LogisticRegression(max_iter=1000, random_state=42),\n",
    "    \"Naive Bayes\": GaussianNB()\n",
    "}\n",
    "\n",
    "k = 100000\n",
    "\n",
    "print(\"{:<25} {:>10} {:>10} {:>15} {:>15} {:>10} {:>10}\".format(\n",
    "    \"Model\", \"AUC-ROC\", \"AP Score\", f\"Precision@{k}\", f\"Recall@{k}\", \"MAP\", f\"F1@{k}\"\n",
    "))\n",
    "print(\"=\" * 105)\n",
    "\n",
    "for name, model in models.items():\n",
    "    model.fit(X_train, train_labels)\n",
    "    \n",
    "    probabilities = model.predict_proba(X_test)[:, 1]\n",
    "    \n",
    "    auc_roc = roc_auc_score(test_labels, probabilities)\n",
    "    ap_score = average_precision_score(test_labels, probabilities)\n",
    "    \n",
    "    precision_at_k_ml = precision_at_k(test_labels, probabilities, k)\n",
    "    recall_at_k_ml = recall_at_k(test_labels, probabilities, k)\n",
    "    map_score = mean_average_precision(test_labels, probabilities)\n",
    "    f1_k_ml = f1_beta_at_k(test_labels, probabilities, k)\n",
    "\n",
    "    print(\"{:<25} {:>10.6f} {:>10.6f} {:>15.6f} {:>15.6f} {:>10.6f} {:>10.6f}\".format(\n",
    "        name.upper(), auc_roc, ap_score, precision_at_k_ml, recall_at_k_ml, map_score, f1_k_ml\n",
    "    ))\n"
   ]
  },
  {
   "cell_type": "markdown",
   "metadata": {},
   "source": [
    "Model machine learning menunjukkan performa yang cukup baik dalam prediksi hubungan di graf, dengan AUC-ROC di atas 0.89 untuk semua model. Naïve Bayes memiliki AUC-ROC tertinggi (0.918), sementara Random Forest unggul dalam AP Score (0.942) dan MAP (0.942). Precision@100000 mendekati 1 untuk semua model, tetapi recall masih sekitar 41.4%, menunjukkan bahwa meskipun model dapat mengidentifikasi pasangan yang benar dengan tingkat presisi tinggi, masih ada banyak pasangan yang terlewat. F1@100000 di kisaran 0.585 mengindikasikan keseimbangan antara precision dan recall masih dapat ditingkatkan, meskipun secara keseluruhan, model ML sudah cukup efektif dalam memprediksi keterhubungan antar node.\n",
    "\n",
    "Jika dibandingkan dengan metode heuristic, model ML memiliki keunggulan dalam AUC-ROC dan AP Score, yang mencerminkan kemampuan yang lebih baik dalam membedakan pasangan yang benar dan salah. Namun, metode heuristic seperti Common Neighbors dan Adamic-Adar memberikan hasil Precision@100000, Recall@100000, dan MAP yang hampir identik dengan Logistic Regression, bahkan sedikit lebih tinggi dalam MAP. Preferential Attachment menjadi satu-satunya heuristic dengan performa jauh lebih rendah, terutama dalam AUC-ROC (0.597) dan F1@100000 (0.387), yang menunjukkan keterbatasannya dalam menangkap pola hubungan di dataset ini. Secara keseluruhan, meskipun metode heuristic dapat menjadi alternatif yang lebih sederhana, model ML tetap memberikan fleksibilitas lebih tinggi dengan hasil yang lebih baik dalam evaluasi berbasis probabilitas."
   ]
  },
  {
   "cell_type": "markdown",
   "metadata": {},
   "source": [
    "## Graph Embedding Link Prediction "
   ]
  },
  {
   "cell_type": "markdown",
   "metadata": {},
   "source": [
    "## Graph Neural Network (GNN) Link Prediction"
   ]
  }
 ],
 "metadata": {
  "kernelspec": {
   "display_name": "base",
   "language": "python",
   "name": "python3"
  },
  "language_info": {
   "codemirror_mode": {
    "name": "ipython",
    "version": 3
   },
   "file_extension": ".py",
   "mimetype": "text/x-python",
   "name": "python",
   "nbconvert_exporter": "python",
   "pygments_lexer": "ipython3",
   "version": "3.12.7"
  }
 },
 "nbformat": 4,
 "nbformat_minor": 2
}
