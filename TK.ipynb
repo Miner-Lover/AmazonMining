{
 "cells": [
  {
   "cell_type": "code",
   "execution_count": 32,
   "metadata": {},
   "outputs": [],
   "source": [
    "import pandas as pd\n",
    "import matplotlib.pyplot as plt\n",
    "import seaborn as sns"
   ]
  },
  {
   "cell_type": "markdown",
   "metadata": {},
   "source": [
    "# 1. Business Understanding"
   ]
  },
  {
   "cell_type": "markdown",
   "metadata": {},
   "source": [
    "## Business Objective"
   ]
  },
  {
   "cell_type": "markdown",
   "metadata": {},
   "source": [
    "Tujuan bisnis dari proyek ini adalah untuk mendapatkan pemahaman yang lebih dalam tentang kebiasaan dan minat pembelian pelanggan dalam konteks e-commerce, dan lebih khusus lagi, perilaku pembelian bersama produk di Amazon. Kebiasaan ini berguna bagi bisnis e-commerce untuk meningkatkan beberapa proses bisnis, terutama pembuatan sistem rekomendasi dan strategi bundling produk. Dengan menganalisis pola pembelian produk yang dibeli bersama, proyek ini bertujuan untuk memperoleh intelijen yang dapat ditindaklanjuti yang dapat digunakan untuk meningkatkan kepuasan pelanggan, meningkatkan penjualan, dan membuat pembelian online menjadi lebih efisien. Pada akhirnya, pemahaman ini akan berkontribusi pada strategi ritel yang lebih efektif dan pengalaman pelanggan yang lebih personal di pasar online."
   ]
  },
  {
   "cell_type": "markdown",
   "metadata": {},
   "source": [
    "## Assess Situation"
   ]
  },
  {
   "cell_type": "markdown",
   "metadata": {},
   "source": [
    "Dalam era belanja online yang terus berubah, e-commerce seperti Amazon, wawasan tentang perilaku pembelian pelanggan tidak lagi menjadi preferensi, tetapi sebuah keharusan untuk mengikuti persaingan. Pengalaman yang dipersonalisasi melalui algoritme rekomendasi tingkat tinggi yang canggih dan pengelompokan produk yang cerdas adalah pilar untuk membangun loyalitas merek dan kuantitas penjualan. Sementara metode standar biasanya hanya berfokus pada pemeriksaan data tabular, metodologi tersebut kurang dalam hal menangkap jaringan pengaruh antar-produk yang sebenarnya mendorong aktivitas pembelian bersama. Upaya ini menyadari kekurangan data tabular dan sebagai gantinya mengejar jawaban berbasis grafik dalam upaya untuk menemukan visi yang lebih mendalam dan berkembang tentang hubungan antar-produk. Masalah bisnis yang menarik adalah potensi kurang optimalnya aktivitas rekomendasi dan pengelompokan produk saat ini karena kurangnya wawasan menyeluruh tentang hubungan pembelian bersama. Hal ini menyebabkan hilangnya kesempatan untuk meningkatkan penjualan silang, penjualan naik, dan pada akhirnya pengalaman pelanggan yang lebih buruk. Namun sumber data yang diberikan ini memiliki beban tersendiri, terutama kompleksitas yang terkait dengan data grafik dan teknik analisis canggih yang terlibat dalam memperoleh wawasan yang berguna darinya."
   ]
  },
  {
   "cell_type": "markdown",
   "metadata": {},
   "source": [
    "## Data Mining Goals"
   ]
  },
  {
   "cell_type": "markdown",
   "metadata": {},
   "source": [
    "Tujuan utama penggalian data dari proyek ini adalah untuk secara komprehensif memeriksa dan menyelidiki matriks hubungan pembelian bersama yang kompleks di Jaringan Pembelian Bersama Produk Amazon. Di luar batas-batas penyelidikan data berbasis tabel yang biasa, proyek saat ini menghargai hubungan pembelian bersama sebagai kepentingan utama untuk penyelidikan daripada berkonsentrasi pada setiap atribut item. Dengan memanfaatkan properti grafik dari kumpulan data, tujuannya adalah untuk mengungkapkan afinitas pembelian bersama yang kuat, mengidentifikasi pasangan bersama dan koleksi produk untuk tujuan menentukan pola tersembunyi dari pembelian pelanggan. Selain itu, proyek ini berupaya menjelaskan topologi jaringan pembelian bersama itu sendiri, menganalisis topologinya untuk mengetahui bagaimana produk saling terkait, menentukan produk hub yang berpengaruh yang melintasi kategori produk, dan menemukan koleksi produk yang dibeli bersama, yang mungkin mengindikasikan koleksi produk atau konteks penggunaan yang alami. Pada akhirnya, wawasan yang diperoleh melalui upaya penggalian data berbasis hubungan pembelian bersama seperti itu seharusnya memungkinkan pengembangan sistem rekomendasi berorientasi pola pembelian bersama yang mampu menciptakan pengalaman pembelian yang lebih kohesif dan terinformasi bagi pembeli ritel digital. Keberhasilannya akan diukur dari seberapa baik saling ketergantungan produk dipahami dan kemampuan aktual untuk menggunakan pengetahuan relasional ini ke dalam praktik untuk secara efektif mengubah praktik strategi toko online dengan cara yang nyata, terutama dalam merekomendasikan produk dan pengelompokan produk."
   ]
  },
  {
   "cell_type": "markdown",
   "metadata": {},
   "source": [
    "## Produce Project Plan"
   ]
  },
  {
   "cell_type": "markdown",
   "metadata": {},
   "source": [
    "Proyek ini akan dimulai dengan fase Pemahaman Data, dengan fokus pada pemeriksaan menyeluruh terhadap kumpulan data Jaringan Pembelian Bersama Produk Amazon. Pengenalan data, pemeriksaan kualitas, dan visualisasi awal akan dilakukan pada langkah pertama untuk mendapatkan gambaran awal tentang properti jaringan dan tantangan potensial. Setelah pemahaman data, proyek akan masuk ke tahap Persiapan Data. Pada tahap ini, semua masalah kualitas data, yang telah ditemukan pada tahap sebelumnya, akan ditangani dan mungkin melibatkan prosedur preprocessing untuk mengubah data ke dalam bentuk yang tepat yang sesuai untuk analisis graph mining. Sebagian besar aktivitas analitik akan terjadi pada fase Pemodelan. Fase ini akan melibatkan pemilihan dan penerapan teknik-teknik graph mining yang sesuai, seperti sentralitas, metode deteksi komunitas, dan mungkin metode penyematan graf atau prediksi tautan. Pilihan metode yang sebenarnya akan dipandu oleh tujuan dan wawasan data mining selama fase pemahaman data. Setelah model telah dikembangkan dan hasil telah dihasilkan, tahap Evaluasi akan menjadi sangat penting. Tahap ini akan menganalisis secara kritis kualitas dan validitas hasil untuk memastikan bahwa informasi yang diperoleh berguna dan bermakna bagi tujuan bisnis. Langkah-langkah evaluasi yang sesuai untuk tugas-tugas graph mining akan digunakan untuk mengukur efektivitas metode yang dipilih. Terakhir, rencana proyek juga akan mempertimbangkan tahap Deployment, meskipun pada tahap ini, hanya akan menguraikan rencana penerapan. Hal ini akan melibatkan perdebatan tentang bagaimana pembelajaran dari analisis dapat diterjemahkan ke dalam rekomendasi praktis untuk strategi pembelian online Amazon, terutama dengan fokus pada peningkatan sistem rekomendasi produk dan strategi pengelompokan produk. Proyek ini akan bersifat berulang sehingga koreksi terhadap rencana dapat dilakukan seiring dengan ditemukannya pembelajaran baru di setiap langkah. Pertemuan dan tinjauan tim secara teratur akan diperlukan untuk melacak kemajuan, menyelesaikan masalah tepat waktu, dan untuk menjaga agar proyek tetap sesuai dengan tujuan dan jadwal."
   ]
  },
  {
   "cell_type": "code",
   "execution_count": 33,
   "metadata": {},
   "outputs": [
    {
     "data": {
      "text/html": [
       "<div>\n",
       "<style scoped>\n",
       "    .dataframe tbody tr th:only-of-type {\n",
       "        vertical-align: middle;\n",
       "    }\n",
       "\n",
       "    .dataframe tbody tr th {\n",
       "        vertical-align: top;\n",
       "    }\n",
       "\n",
       "    .dataframe thead th {\n",
       "        text-align: right;\n",
       "    }\n",
       "</style>\n",
       "<table border=\"1\" class=\"dataframe\">\n",
       "  <thead>\n",
       "    <tr style=\"text-align: right;\">\n",
       "      <th></th>\n",
       "      <th>id</th>\n",
       "      <th>title</th>\n",
       "      <th>group</th>\n",
       "      <th>salesrank</th>\n",
       "      <th>review_cnt</th>\n",
       "      <th>downloads</th>\n",
       "      <th>rating</th>\n",
       "    </tr>\n",
       "  </thead>\n",
       "  <tbody>\n",
       "    <tr>\n",
       "      <th>0</th>\n",
       "      <td>1</td>\n",
       "      <td>Patterns of Preaching: A Sermon Sampler</td>\n",
       "      <td>Book</td>\n",
       "      <td>396585.0</td>\n",
       "      <td>2</td>\n",
       "      <td>2</td>\n",
       "      <td>5.0</td>\n",
       "    </tr>\n",
       "    <tr>\n",
       "      <th>1</th>\n",
       "      <td>2</td>\n",
       "      <td>Candlemas: Feast of Flames</td>\n",
       "      <td>Book</td>\n",
       "      <td>168596.0</td>\n",
       "      <td>12</td>\n",
       "      <td>12</td>\n",
       "      <td>4.5</td>\n",
       "    </tr>\n",
       "    <tr>\n",
       "      <th>2</th>\n",
       "      <td>3</td>\n",
       "      <td>World War II Allied Fighter Planes Trading Cards</td>\n",
       "      <td>Book</td>\n",
       "      <td>1270652.0</td>\n",
       "      <td>1</td>\n",
       "      <td>1</td>\n",
       "      <td>5.0</td>\n",
       "    </tr>\n",
       "    <tr>\n",
       "      <th>3</th>\n",
       "      <td>4</td>\n",
       "      <td>Life Application Bible Commentary: 1 and 2 Tim...</td>\n",
       "      <td>Book</td>\n",
       "      <td>631289.0</td>\n",
       "      <td>1</td>\n",
       "      <td>1</td>\n",
       "      <td>4.0</td>\n",
       "    </tr>\n",
       "    <tr>\n",
       "      <th>4</th>\n",
       "      <td>5</td>\n",
       "      <td>Prayers That Avail Much for Business: Executive</td>\n",
       "      <td>Book</td>\n",
       "      <td>455160.0</td>\n",
       "      <td>0</td>\n",
       "      <td>0</td>\n",
       "      <td>0.0</td>\n",
       "    </tr>\n",
       "  </tbody>\n",
       "</table>\n",
       "</div>"
      ],
      "text/plain": [
       "   id                                              title group  salesrank  \\\n",
       "0   1            Patterns of Preaching: A Sermon Sampler  Book   396585.0   \n",
       "1   2                         Candlemas: Feast of Flames  Book   168596.0   \n",
       "2   3   World War II Allied Fighter Planes Trading Cards  Book  1270652.0   \n",
       "3   4  Life Application Bible Commentary: 1 and 2 Tim...  Book   631289.0   \n",
       "4   5    Prayers That Avail Much for Business: Executive  Book   455160.0   \n",
       "\n",
       "   review_cnt  downloads  rating  \n",
       "0           2          2     5.0  \n",
       "1          12         12     4.5  \n",
       "2           1          1     5.0  \n",
       "3           1          1     4.0  \n",
       "4           0          0     0.0  "
      ]
     },
     "execution_count": 33,
     "metadata": {},
     "output_type": "execute_result"
    }
   ],
   "source": [
    "df_products = pd.read_csv('products.csv')\n",
    "\n",
    "df_products.head()"
   ]
  },
  {
   "cell_type": "code",
   "execution_count": 34,
   "metadata": {},
   "outputs": [
    {
     "data": {
      "text/html": [
       "<div>\n",
       "<style scoped>\n",
       "    .dataframe tbody tr th:only-of-type {\n",
       "        vertical-align: middle;\n",
       "    }\n",
       "\n",
       "    .dataframe tbody tr th {\n",
       "        vertical-align: top;\n",
       "    }\n",
       "\n",
       "    .dataframe thead th {\n",
       "        text-align: right;\n",
       "    }\n",
       "</style>\n",
       "<table border=\"1\" class=\"dataframe\">\n",
       "  <thead>\n",
       "    <tr style=\"text-align: right;\">\n",
       "      <th></th>\n",
       "      <th>Source</th>\n",
       "      <th>Target</th>\n",
       "    </tr>\n",
       "  </thead>\n",
       "  <tbody>\n",
       "    <tr>\n",
       "      <th>0</th>\n",
       "      <td>1</td>\n",
       "      <td>2</td>\n",
       "    </tr>\n",
       "    <tr>\n",
       "      <th>1</th>\n",
       "      <td>1</td>\n",
       "      <td>4</td>\n",
       "    </tr>\n",
       "    <tr>\n",
       "      <th>2</th>\n",
       "      <td>1</td>\n",
       "      <td>5</td>\n",
       "    </tr>\n",
       "    <tr>\n",
       "      <th>3</th>\n",
       "      <td>1</td>\n",
       "      <td>15</td>\n",
       "    </tr>\n",
       "    <tr>\n",
       "      <th>4</th>\n",
       "      <td>2</td>\n",
       "      <td>11</td>\n",
       "    </tr>\n",
       "  </tbody>\n",
       "</table>\n",
       "</div>"
      ],
      "text/plain": [
       "   Source  Target\n",
       "0       1       2\n",
       "1       1       4\n",
       "2       1       5\n",
       "3       1      15\n",
       "4       2      11"
      ]
     },
     "execution_count": 34,
     "metadata": {},
     "output_type": "execute_result"
    }
   ],
   "source": [
    "df_copurchase = pd.read_csv('copurchase.csv')\n",
    "\n",
    "df_copurchase.head()"
   ]
  },
  {
   "cell_type": "markdown",
   "metadata": {},
   "source": [
    "#### Check Duplicate value for products.csv"
   ]
  },
  {
   "cell_type": "code",
   "execution_count": 35,
   "metadata": {},
   "outputs": [
    {
     "name": "stdout",
     "output_type": "stream",
     "text": [
      "Total data duplikat adalah: 0 Data\n"
     ]
    }
   ],
   "source": [
    "print(\"Total data duplikat adalah: \" + str(df_products.duplicated().sum()) + \" Data\")"
   ]
  },
  {
   "cell_type": "markdown",
   "metadata": {},
   "source": [
    "#### Check Missing value for products.csv"
   ]
  },
  {
   "cell_type": "code",
   "execution_count": 36,
   "metadata": {},
   "outputs": [
    {
     "data": {
      "text/plain": [
       "id            0\n",
       "title         0\n",
       "group         0\n",
       "salesrank     0\n",
       "review_cnt    0\n",
       "downloads     0\n",
       "rating        0\n",
       "dtype: int64"
      ]
     },
     "execution_count": 36,
     "metadata": {},
     "output_type": "execute_result"
    }
   ],
   "source": [
    "df_products.isnull().sum()"
   ]
  },
  {
   "cell_type": "markdown",
   "metadata": {},
   "source": [
    "#### Check Missing value for copurchase.csv"
   ]
  },
  {
   "cell_type": "code",
   "execution_count": 37,
   "metadata": {},
   "outputs": [
    {
     "data": {
      "text/plain": [
       "Source    0\n",
       "Target    0\n",
       "dtype: int64"
      ]
     },
     "execution_count": 37,
     "metadata": {},
     "output_type": "execute_result"
    }
   ],
   "source": [
    "df_copurchase.isnull().sum()"
   ]
  }
 ],
 "metadata": {
  "kernelspec": {
   "display_name": "Python 3",
   "language": "python",
   "name": "python3"
  },
  "language_info": {
   "codemirror_mode": {
    "name": "ipython",
    "version": 3
   },
   "file_extension": ".py",
   "mimetype": "text/x-python",
   "name": "python",
   "nbconvert_exporter": "python",
   "pygments_lexer": "ipython3",
   "version": "3.9.5"
  }
 },
 "nbformat": 4,
 "nbformat_minor": 2
}
