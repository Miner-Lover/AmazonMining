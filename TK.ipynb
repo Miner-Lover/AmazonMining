{
 "cells": [
  {
   "cell_type": "code",
   "execution_count": 2,
   "metadata": {},
   "outputs": [],
   "source": [
    "import pandas as pd\n",
    "import matplotlib.pyplot as plt\n",
    "import seaborn as sns\n",
    "import numpy as np"
   ]
  },
  {
   "cell_type": "markdown",
   "metadata": {},
   "source": [
    "# 1. Business Understanding"
   ]
  },
  {
   "cell_type": "markdown",
   "metadata": {},
   "source": [
    "## Business Objective"
   ]
  },
  {
   "cell_type": "markdown",
   "metadata": {},
   "source": [
    "Tujuan bisnis dari proyek ini adalah untuk mendapatkan pemahaman yang lebih dalam tentang kebiasaan dan minat pembelian pelanggan dalam konteks e-commerce, dan lebih khusus lagi, perilaku pembelian bersama produk di Amazon. Kebiasaan ini berguna bagi bisnis e-commerce untuk meningkatkan beberapa proses bisnis, terutama pembuatan sistem rekomendasi dan strategi bundling produk. Dengan menganalisis pola pembelian produk yang dibeli bersama, proyek ini bertujuan untuk memperoleh *insights* yang dapat ditindaklanjuti yang dapat digunakan untuk meningkatkan kepuasan pelanggan, meningkatkan penjualan, dan membuat pembelian online menjadi lebih efisien. Pada akhirnya, pemahaman ini akan berkontribusi pada strategi ritel yang lebih efektif dan pengalaman pelanggan yang lebih personal di e-commerce."
   ]
  },
  {
   "cell_type": "markdown",
   "metadata": {},
   "source": [
    "## Assess Situation"
   ]
  },
  {
   "cell_type": "markdown",
   "metadata": {},
   "source": [
    "Dalam era belanja online yang terus berubah, *insights* tentang perilaku pembelian pelanggan tidak lagi menjadi preferensi, tetapi sebuah keharusan untuk mengikuti persaingan. Pengalaman yang dipersonalisasi melalui algoritma rekomendasi yang canggih dan pengelompokan produk yang efektif adalah fondasi untuk meningkatkan kuantitas penjualan yang pada akhirnya akan membangun loyalitas merek. Baik sistem rekomendasi maupun pengelompokkan produk perlu memerhatikan hubungan antarproduk yang ingin disatukan agar pelanggan tertarik membeli barang-barang tersebut. Kurang optimalnya sistem rekomendasi dan pengelompokan produk saat ini dapat disebabkan oleh kurangnya informasi menyeluruh tentang hubungan pembelian produk bersama yang diakibatkan oleh kurangnya penggalian data yang lebih efektif. Hal ini menyebabkan hilangnya kesempatan untuk meningkatkan penjualan produk yang disebabkan oleh sistem rekomendasi yang kurang optimal menangkap hubungan antarproduk. Salah satu metode yang dapat digunakan digunakan untuk menangkap hubungan antarproduk adalah menganalisis data barang yang pernah dibeli pelanggan untuk mendapat pola dan preferensi belanja pelanggan. Metode standar biasanya hanya berfokus pada penggunaan data tabular sebagai bahan analisis, padahal metode tersebut kurang baik dalam hal menangkap keterhubungan antarproduk. Sedangkan, analisis pada data dalam bentuk graf akan berfokus pada keterhubungan antar data. Namun sumber data yang diberikan ini memiliki beban tersendiri, terutama kompleksitas yang terkait dengan data graf dan teknik analisis yang terlibat dalam memperoleh *insights* yang berguna darinya."
   ]
  },
  {
   "cell_type": "markdown",
   "metadata": {},
   "source": [
    "## Data Mining Goals"
   ]
  },
  {
   "cell_type": "markdown",
   "metadata": {},
   "source": [
    "Tujuan utama penggalian data dari proyek ini adalah untuk secara komprehensif memeriksa dan menggali hubungan pembelian bersama yang kompleks pada data graf pembelian bersama Produk Amazon. Proyek ini lebih mengutamakan hubungan antar data dibandingkan mempelajari sifat masing-masing data, sehingga analisis difokuskan pada data graf untuk memahami secara menyeluruh hubungan antar produk dan mengidentifikasi pola penting yang mendasari perilaku konsumen. Proyek ini akan berupaya menjelaskan topologi jaringan pembelian bersama untuk mengetahui bagaimana produk saling terkait, menentukan hubungan produk yang berpengaruh dari setiap kategori produk, serta menemukan koleksi produk yang dibeli bersama. Selain itu, akan dicoba metode prediksi seperti teknik link prediction dan lain-lain. Sehingga dapat memberikan rekomendasi yang lebih relevan kepada pelanggan agar tercipta pengalaman pembelian yang lebih baik bagi konsumen. Keberhasilan proyek ini akan diukur dari seberapa baik hubungan antarproduk dapat dipahami dan seberapa signifikan peningkatan efektivitas sistem rekomendasi yang dibuat berdasarkan knowledge hubungan antarproduk."
   ]
  },
  {
   "cell_type": "markdown",
   "metadata": {},
   "source": [
    "## Produce Project Plan"
   ]
  },
  {
   "cell_type": "markdown",
   "metadata": {},
   "source": [
    "Proyek ini dimulai dengan dengan fase **Business Understanding**, di mana tujuan bisnis proyek ini, yaitu memahami pola pembelian bersama dan preferensi pelanggan akan diterjemahkan menjadi tujuan penambangan data yang spesifik. Selanjutnya, eksplorasi awal dengan metode Exploratory Data Analysis (EDA) untuk memahami karakteristik data serta kompleksitas hubungan antar produk dalam bentuk graf, yang akan mengungkap pola keterhubungan dan kecenderungan pembelian bersama akan dilakukan pada fase **Data Understanding**. Secara paralel dengan fase **Data Understanding**, fase **Data Preparation** juga dilakukan yang berfokus pada pembersihan dan transformasi data, sehingga data siap digunakan dalam analisis mendalam untuk analisis graph mining. Pada fase Modeling, metode-metode analisis graf seperti community detection, pengukuran centrality, dan link prediction diterapkan untuk mengidentifikasi pola-pola penting serta memprediksi kemungkinan pembelian bersama di masa depan yang disesuaikan dengan knowledge dari fase **Data Understanding**. Fase evaluasi model selanjutnya dilakukan dengan merumuskan kriteria yang mengukur efektivitas dan akurasi dalam menangkap hubungan antar produk yang mendasari perilaku konsumen. Terakhir, meskipun fase **Deployment** hanya akan menguraikan rencana penerapan, rencana tersebut akan mendiskusikan bagaimana pembelajaran dari analisis dapat diterjemahkan ke dalam rekomendasi praktis untuk strategi pembelian online Amazon, terutama dalam meningkatkan sistem rekomendasi produk dan strategi pengelompokan produk. Proyek ini bersifat iteratif, dengan peninjauan dan pertemuan tim secara berkala untuk memastikan bahwa rencana dapat disesuaikan seiring ditemukannya knowledge baru dan untuk menjaga proyek tetap selaras dengan tujuan dan jadwal yang telah ditetapkan."
   ]
  },
  {
   "cell_type": "code",
   "execution_count": 3,
   "metadata": {},
   "outputs": [
    {
     "data": {
      "text/html": [
       "<div>\n",
       "<style scoped>\n",
       "    .dataframe tbody tr th:only-of-type {\n",
       "        vertical-align: middle;\n",
       "    }\n",
       "\n",
       "    .dataframe tbody tr th {\n",
       "        vertical-align: top;\n",
       "    }\n",
       "\n",
       "    .dataframe thead th {\n",
       "        text-align: right;\n",
       "    }\n",
       "</style>\n",
       "<table border=\"1\" class=\"dataframe\">\n",
       "  <thead>\n",
       "    <tr style=\"text-align: right;\">\n",
       "      <th></th>\n",
       "      <th>id</th>\n",
       "      <th>title</th>\n",
       "      <th>group</th>\n",
       "      <th>salesrank</th>\n",
       "      <th>review_cnt</th>\n",
       "      <th>downloads</th>\n",
       "      <th>rating</th>\n",
       "    </tr>\n",
       "  </thead>\n",
       "  <tbody>\n",
       "    <tr>\n",
       "      <th>0</th>\n",
       "      <td>1</td>\n",
       "      <td>Patterns of Preaching: A Sermon Sampler</td>\n",
       "      <td>Book</td>\n",
       "      <td>396585.0</td>\n",
       "      <td>2</td>\n",
       "      <td>2</td>\n",
       "      <td>5.0</td>\n",
       "    </tr>\n",
       "    <tr>\n",
       "      <th>1</th>\n",
       "      <td>2</td>\n",
       "      <td>Candlemas: Feast of Flames</td>\n",
       "      <td>Book</td>\n",
       "      <td>168596.0</td>\n",
       "      <td>12</td>\n",
       "      <td>12</td>\n",
       "      <td>4.5</td>\n",
       "    </tr>\n",
       "    <tr>\n",
       "      <th>2</th>\n",
       "      <td>3</td>\n",
       "      <td>World War II Allied Fighter Planes Trading Cards</td>\n",
       "      <td>Book</td>\n",
       "      <td>1270652.0</td>\n",
       "      <td>1</td>\n",
       "      <td>1</td>\n",
       "      <td>5.0</td>\n",
       "    </tr>\n",
       "    <tr>\n",
       "      <th>3</th>\n",
       "      <td>4</td>\n",
       "      <td>Life Application Bible Commentary: 1 and 2 Tim...</td>\n",
       "      <td>Book</td>\n",
       "      <td>631289.0</td>\n",
       "      <td>1</td>\n",
       "      <td>1</td>\n",
       "      <td>4.0</td>\n",
       "    </tr>\n",
       "    <tr>\n",
       "      <th>4</th>\n",
       "      <td>5</td>\n",
       "      <td>Prayers That Avail Much for Business: Executive</td>\n",
       "      <td>Book</td>\n",
       "      <td>455160.0</td>\n",
       "      <td>0</td>\n",
       "      <td>0</td>\n",
       "      <td>0.0</td>\n",
       "    </tr>\n",
       "  </tbody>\n",
       "</table>\n",
       "</div>"
      ],
      "text/plain": [
       "   id                                              title group  salesrank  \\\n",
       "0   1            Patterns of Preaching: A Sermon Sampler  Book   396585.0   \n",
       "1   2                         Candlemas: Feast of Flames  Book   168596.0   \n",
       "2   3   World War II Allied Fighter Planes Trading Cards  Book  1270652.0   \n",
       "3   4  Life Application Bible Commentary: 1 and 2 Tim...  Book   631289.0   \n",
       "4   5    Prayers That Avail Much for Business: Executive  Book   455160.0   \n",
       "\n",
       "   review_cnt  downloads  rating  \n",
       "0           2          2     5.0  \n",
       "1          12         12     4.5  \n",
       "2           1          1     5.0  \n",
       "3           1          1     4.0  \n",
       "4           0          0     0.0  "
      ]
     },
     "execution_count": 3,
     "metadata": {},
     "output_type": "execute_result"
    }
   ],
   "source": [
    "df_products = pd.read_csv('products.csv')\n",
    "\n",
    "df_products.head()"
   ]
  },
  {
   "cell_type": "code",
   "execution_count": 4,
   "metadata": {},
   "outputs": [
    {
     "data": {
      "text/html": [
       "<div>\n",
       "<style scoped>\n",
       "    .dataframe tbody tr th:only-of-type {\n",
       "        vertical-align: middle;\n",
       "    }\n",
       "\n",
       "    .dataframe tbody tr th {\n",
       "        vertical-align: top;\n",
       "    }\n",
       "\n",
       "    .dataframe thead th {\n",
       "        text-align: right;\n",
       "    }\n",
       "</style>\n",
       "<table border=\"1\" class=\"dataframe\">\n",
       "  <thead>\n",
       "    <tr style=\"text-align: right;\">\n",
       "      <th></th>\n",
       "      <th>Source</th>\n",
       "      <th>Target</th>\n",
       "    </tr>\n",
       "  </thead>\n",
       "  <tbody>\n",
       "    <tr>\n",
       "      <th>0</th>\n",
       "      <td>1</td>\n",
       "      <td>2</td>\n",
       "    </tr>\n",
       "    <tr>\n",
       "      <th>1</th>\n",
       "      <td>1</td>\n",
       "      <td>4</td>\n",
       "    </tr>\n",
       "    <tr>\n",
       "      <th>2</th>\n",
       "      <td>1</td>\n",
       "      <td>5</td>\n",
       "    </tr>\n",
       "    <tr>\n",
       "      <th>3</th>\n",
       "      <td>1</td>\n",
       "      <td>15</td>\n",
       "    </tr>\n",
       "    <tr>\n",
       "      <th>4</th>\n",
       "      <td>2</td>\n",
       "      <td>11</td>\n",
       "    </tr>\n",
       "  </tbody>\n",
       "</table>\n",
       "</div>"
      ],
      "text/plain": [
       "   Source  Target\n",
       "0       1       2\n",
       "1       1       4\n",
       "2       1       5\n",
       "3       1      15\n",
       "4       2      11"
      ]
     },
     "execution_count": 4,
     "metadata": {},
     "output_type": "execute_result"
    }
   ],
   "source": [
    "df_copurchase = pd.read_csv('copurchase.csv')\n",
    "\n",
    "df_copurchase.head()"
   ]
  },
  {
   "cell_type": "markdown",
   "metadata": {},
   "source": [
    "#### Check Duplicate value for products.csv"
   ]
  },
  {
   "cell_type": "code",
   "execution_count": 5,
   "metadata": {},
   "outputs": [
    {
     "name": "stdout",
     "output_type": "stream",
     "text": [
      "Total data duplikat adalah: 0 Data\n"
     ]
    }
   ],
   "source": [
    "print(\"Total data duplikat adalah: \" + str(df_products.duplicated().sum()) + \" Data\")"
   ]
  },
  {
   "cell_type": "markdown",
   "metadata": {},
   "source": [
    "#### Check Missing value for products.csv"
   ]
  },
  {
   "cell_type": "code",
   "execution_count": 6,
   "metadata": {},
   "outputs": [
    {
     "data": {
      "text/plain": [
       "id            0\n",
       "title         0\n",
       "group         0\n",
       "salesrank     0\n",
       "review_cnt    0\n",
       "downloads     0\n",
       "rating        0\n",
       "dtype: int64"
      ]
     },
     "execution_count": 6,
     "metadata": {},
     "output_type": "execute_result"
    }
   ],
   "source": [
    "df_products.isnull().sum()"
   ]
  },
  {
   "cell_type": "markdown",
   "metadata": {},
   "source": [
    "#### Check Missing value for copurchase.csv"
   ]
  },
  {
   "cell_type": "code",
   "execution_count": 7,
   "metadata": {},
   "outputs": [
    {
     "data": {
      "text/plain": [
       "Source    0\n",
       "Target    0\n",
       "dtype: int64"
      ]
     },
     "execution_count": 7,
     "metadata": {},
     "output_type": "execute_result"
    }
   ],
   "source": [
    "df_copurchase.isnull().sum()"
   ]
  },
  {
   "cell_type": "markdown",
   "metadata": {},
   "source": [
    "#### Remove Copurchase that isn't in products.csv"
   ]
  },
  {
   "cell_type": "code",
   "execution_count": 8,
   "metadata": {},
   "outputs": [
    {
     "name": "stdout",
     "output_type": "stream",
     "text": [
      "Jumlah produk yang tidak ada di dalam data products.csv adalah: 5843 Data\n",
      "Jumlah data copurchase setelah di filter adalah: 1207337 Data dari 1234870 Data\n"
     ]
    }
   ],
   "source": [
    "set_source = set(df_copurchase['Source'])\n",
    "set_target = set(df_copurchase['Target'])\n",
    "set_products = set(df_products['id'])\n",
    "\n",
    "target_not_in_products = set_target - set_products\n",
    "source_not_in_products = set_source - set_products\n",
    "\n",
    "print(\"Jumlah produk yang tidak ada di dalam data products.csv adalah: \" + str(len(target_not_in_products) + len(source_not_in_products)) + \" Data\")\n",
    "\n",
    "df_copurchase_filtered = df_copurchase[~df_copurchase['Source'].isin(source_not_in_products)]\n",
    "df_copurchase_filtered = df_copurchase_filtered[~df_copurchase_filtered['Target'].isin(target_not_in_products)]\n",
    "\n",
    "print(\"Jumlah data copurchase setelah di filter adalah: \" + str(len(df_copurchase_filtered)) + \" Data dari \" + str(len(df_copurchase)) + \" Data\")"
   ]
  },
  {
   "cell_type": "markdown",
   "metadata": {},
   "source": [
    "#### Handle Self Loop and Multi Edge"
   ]
  },
  {
   "cell_type": "code",
   "execution_count": 9,
   "metadata": {},
   "outputs": [
    {
     "data": {
      "text/plain": [
       "0"
      ]
     },
     "execution_count": 9,
     "metadata": {},
     "output_type": "execute_result"
    }
   ],
   "source": [
    "df_copurchase_filtered = df_copurchase_filtered[df_copurchase_filtered['Source'] != df_copurchase_filtered['Target']]\n",
    "\n",
    "duplicate_edges_sum = df_copurchase_filtered.duplicated(subset=['Source', 'Target']).sum()\n",
    "duplicate_edges_sum"
   ]
  },
  {
   "cell_type": "markdown",
   "metadata": {},
   "source": [
    "#### Clean Salesrank Value"
   ]
  },
  {
   "cell_type": "code",
   "execution_count": 10,
   "metadata": {},
   "outputs": [
    {
     "name": "stdout",
     "output_type": "stream",
     "text": [
      "salesrank\n",
      "-1.0    226\n",
      "Name: count, dtype: int64\n",
      "=============== After Cleaning ===============\n"
     ]
    },
    {
     "data": {
      "text/plain": [
       "Series([], Name: count, dtype: int64)"
      ]
     },
     "execution_count": 10,
     "metadata": {},
     "output_type": "execute_result"
    }
   ],
   "source": [
    "print(df_products[df_products['salesrank'] < 1]['salesrank'].value_counts())\n",
    "\n",
    "df_products = df_products.assign(\n",
    "    salesrank=lambda df: df['salesrank'].apply(lambda x: np.nan if x < 1 else x)\n",
    ")\n",
    "\n",
    "median_ranks = df_products.groupby('group')['salesrank'].transform('median')\n",
    "df_products = df_products.assign(\n",
    "    salesrank=lambda df: df['salesrank'].fillna(median_ranks)\n",
    ")\n",
    "\n",
    "print(\"=============== After Cleaning ===============\")\n",
    "df_products[df_products['salesrank'] < 1]['salesrank'].value_counts()"
   ]
  },
  {
   "cell_type": "markdown",
   "metadata": {},
   "source": [
    "#### Export preprocessed data"
   ]
  },
  {
   "cell_type": "code",
   "execution_count": 11,
   "metadata": {},
   "outputs": [],
   "source": [
    "df_products.to_csv('products_cleaned.csv', index=False)\n",
    "df_copurchase_filtered.to_csv('copurchase_cleaned.csv', index=False)"
   ]
  }
 ],
 "metadata": {
  "kernelspec": {
   "display_name": "Python 3",
   "language": "python",
   "name": "python3"
  },
  "language_info": {
   "codemirror_mode": {
    "name": "ipython",
    "version": 3
   },
   "file_extension": ".py",
   "mimetype": "text/x-python",
   "name": "python",
   "nbconvert_exporter": "python",
   "pygments_lexer": "ipython3",
   "version": "3.9.5"
  }
 },
 "nbformat": 4,
 "nbformat_minor": 2
}
